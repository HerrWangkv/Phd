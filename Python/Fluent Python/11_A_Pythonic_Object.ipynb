{
 "metadata": {
  "language_info": {
   "codemirror_mode": {
    "name": "ipython",
    "version": 3
   },
   "file_extension": ".py",
   "mimetype": "text/x-python",
   "name": "python",
   "nbconvert_exporter": "python",
   "pygments_lexer": "ipython3",
   "version": "3.9.5"
  },
  "orig_nbformat": 4,
  "kernelspec": {
   "name": "python3",
   "display_name": "Python 3.9.5 64-bit ('fluent': conda)"
  },
  "interpreter": {
   "hash": "b49d97cca46654f0638efecf31cc68aac48bbca1dbf9da3c97b7689e9a9e47c8"
  }
 },
 "nbformat": 4,
 "nbformat_minor": 2,
 "cells": [
  {
   "source": [
    "## Object Representations\n",
    "- `repr()`: Return a string representing the object as the developer wants to see it.\n",
    "- `str()`: Return a string representing the object as the user wants to see it.\n",
    "- `bytes()`: Return a byte sequence representing the ibject\n",
    "\n",
    "\n",
    "The special methods `__repr__`, `__str__` and `__bytes__()` support `repr()`, `str()` and `bytes()`"
   ],
   "cell_type": "markdown",
   "metadata": {}
  },
  {
   "source": [
    "## Vector Class"
   ],
   "cell_type": "markdown",
   "metadata": {}
  },
  {
   "cell_type": "code",
   "execution_count": 1,
   "metadata": {},
   "outputs": [],
   "source": [
    "from array import array\n",
    "import math\n",
    "\n",
    "class Vector2d:\n",
    "    typecode = 'd'\n",
    "\n",
    "    def __init__(self, x, y):\n",
    "        self.x = float(x)\n",
    "        self.y = float(y)\n",
    "    def __iter__(self):\n",
    "        return (i for i in (self.x, self.y))\n",
    "    def __repr__(self):\n",
    "        class_name = type(self).__name__\n",
    "        return f'{class_name}({self.x!r}, {self.y!r})'\n",
    "    def __str__(self):\n",
    "        return str(tuple(self))\n",
    "    def __bytes__(self):\n",
    "        return (bytes([ord(self.typecode)]) + bytes(array(self.typecode, self)))\n",
    "    def __eq__(self, other):\n",
    "        return tuple(self) == tuple(other)\n",
    "    def __abs__(self):\n",
    "        return math.hypot(self.x, self.y)\n",
    "    def __bool__(self):\n",
    "        return bool(abs(self))\n",
    "    @classmethod\n",
    "    def frombytes(cls, octets):\n",
    "        typecode = chr(octets[0])\n",
    "        memv = memoryview(octets[1:]).cast(typecode)\n",
    "        return cls(*memv)"
   ]
  },
  {
   "cell_type": "code",
   "execution_count": 2,
   "metadata": {},
   "outputs": [
    {
     "output_type": "stream",
     "name": "stdout",
     "text": [
      "b'd\\x00\\x00\\x00\\x00\\x00\\x00\\x08@\\x00\\x00\\x00\\x00\\x00\\x00\\x10@'\n"
     ]
    },
    {
     "output_type": "execute_result",
     "data": {
      "text/plain": [
       "(3.0, 4.0, 5.0)"
      ]
     },
     "metadata": {},
     "execution_count": 2
    }
   ],
   "source": [
    "v1 = Vector2d(3, 4)\n",
    "x, y = v1\n",
    "b = bytes(v1)\n",
    "print(b)\n",
    "x, y, abs(v1)"
   ]
  },
  {
   "cell_type": "code",
   "execution_count": 3,
   "metadata": {},
   "outputs": [
    {
     "output_type": "execute_result",
     "data": {
      "text/plain": [
       "Vector2d(3.0, 4.0)"
      ]
     },
     "metadata": {},
     "execution_count": 3
    }
   ],
   "source": [
    "Vector2d.frombytes(b)"
   ]
  },
  {
   "source": [
    "### `classmethod` vs. `staticmethod`\n",
    "- `classmethod` changes the way the method is called, so it receives the class itself as the first argument, instead of an instance. Its most common use is for alternative constructors\n",
    "- `staticmethod` decorator changes a method so that it receives no special first argument (neither `self` nor `cls`). In essence, a static method is just like a plain function that happens to live in a class body"
   ],
   "cell_type": "markdown",
   "metadata": {}
  },
  {
   "cell_type": "code",
   "execution_count": 4,
   "metadata": {},
   "outputs": [
    {
     "output_type": "execute_result",
     "data": {
      "text/plain": [
       "((__main__.Demo, 'spam'), ('spam',))"
      ]
     },
     "metadata": {},
     "execution_count": 4
    }
   ],
   "source": [
    "class Demo:\n",
    "    @classmethod\n",
    "    def clsmeth(*args):\n",
    "        return args # return all positional arguments\n",
    "    @staticmethod\n",
    "    def stameth(*args):\n",
    "        return args\n",
    "\n",
    "Demo.clsmeth('spam'), Demo.stameth('spam')"
   ]
  },
  {
   "source": [
    "### Formatted Displays\n",
    "The f-strings, the `format()` built-in function, and the `str.format()` method calls actually `.__format__` method"
   ],
   "cell_type": "markdown",
   "metadata": {}
  },
  {
   "cell_type": "code",
   "execution_count": 5,
   "metadata": {},
   "outputs": [
    {
     "output_type": "stream",
     "name": "stdout",
     "text": [
      "1 EUR = 7.70 RMB\n7.70\n1 EUR =  7.70 RMB\n"
     ]
    }
   ],
   "source": [
    "rate = 7.7\n",
    "print(f'1 EUR = {rate:.2f} RMB')\n",
    "print(format(rate, '.2f'))\n",
    "print('1 EUR = {rate: .2f} RMB'.format(rate=rate))"
   ]
  },
  {
   "cell_type": "code",
   "execution_count": 6,
   "metadata": {},
   "outputs": [
    {
     "output_type": "stream",
     "name": "stdout",
     "text": [
      "It's now 20:56:06\n20:56:06\nIt's now 08:56 PM\n"
     ]
    }
   ],
   "source": [
    "from datetime import datetime\n",
    "now = datetime.now()\n",
    "print(f\"It's now {now:%H:%M:%S}\")\n",
    "print(format(now, '%H:%M:%S'))\n",
    "print(\"It's now {:%I:%M %p}\".format(now))"
   ]
  },
  {
   "source": [
    "### Add `.__format__` method to `Vector2d`\n",
    "if the format specifier ends with a 'p', we’ll display the vector in polar coordinates: `<r, θ>`"
   ],
   "cell_type": "markdown",
   "metadata": {}
  },
  {
   "cell_type": "code",
   "execution_count": 7,
   "metadata": {},
   "outputs": [
    {
     "output_type": "stream",
     "name": "stdout",
     "text": [
      "<1.41421, 0.78540>\n<1.414e+00, 7.854e-01>\n"
     ]
    }
   ],
   "source": [
    "from array import array\n",
    "import math\n",
    "\n",
    "class Vector2d:\n",
    "    typecode = 'd'\n",
    "\n",
    "    def __init__(self, x, y):\n",
    "        self.x = float(x)\n",
    "        self.y = float(y)\n",
    "    def __iter__(self):\n",
    "        return (i for i in (self.x, self.y))\n",
    "    def __repr__(self):\n",
    "        class_name = type(self).__name__\n",
    "        return f'{class_name}({self.x!r}, {self.y!r})'\n",
    "    def __str__(self):\n",
    "        return str(tuple(self))\n",
    "    def __bytes__(self):\n",
    "        return (bytes([ord(self.typecode)]) + bytes(array(self.typecode, self)))\n",
    "    def __eq__(self, other):\n",
    "        return tuple(self) == tuple(other)\n",
    "    def __abs__(self):\n",
    "        return math.hypot(self.x, self.y)\n",
    "    def __bool__(self):\n",
    "        return bool(abs(self))\n",
    "    ######################  NEW  ######\n",
    "    def __format__(self, fmt_spec=''):\n",
    "        if fmt_spec.endswith('p'):\n",
    "            fmt_spec = fmt_spec[:-1]\n",
    "            # call __abs__\n",
    "            coords = (abs(self), self.angle())\n",
    "            outer_fmt = '<{}, {}>'\n",
    "        else:\n",
    "            coords = self\n",
    "            outer_fmt = '({}, {})'\n",
    "        # call `__iter__` if `coords = self`\n",
    "        components = (format(c, fmt_spec) for c in coords)\n",
    "        return outer_fmt.format(*components)\n",
    "    ######################  NEW  ######\n",
    "\n",
    "    @classmethod\n",
    "    def frombytes(cls, octets):\n",
    "        typecode = chr(octets[0])\n",
    "        memv = memoryview(octets[1:]).cast(typecode)\n",
    "        return cls(*memv)\n",
    "    ######################  NEW  ######\n",
    "    def angle(self):\n",
    "        return math.atan2(self.y, self.x)\n",
    "    ######################  NEW  ######\n",
    "\n",
    "v1 = Vector2d(1, 1)\n",
    "print(f'{v1:.5fp}')\n",
    "print(format(v1, '.3ep'))"
   ]
  },
  {
   "source": [
    "## A Hashable `Vector2d`\n",
    "As defined, so far our `Vector2d` instances are unhashable, so we can’t put them in a `set`\n",
    "\n",
    "To make a Vector2d hashable, we must implement `__hash__` (`__eq__` is also required, and we already have it). We also need to make vector instances **immutable**"
   ],
   "cell_type": "markdown",
   "metadata": {}
  },
  {
   "cell_type": "code",
   "execution_count": 8,
   "metadata": {},
   "outputs": [
    {
     "output_type": "stream",
     "name": "stdout",
     "text": [
      "7 384307168202284039\n"
     ]
    },
    {
     "output_type": "execute_result",
     "data": {
      "text/plain": [
       "{Vector2d(3.0, 4.0), Vector2d(3.1, 4.2)}"
      ]
     },
     "metadata": {},
     "execution_count": 8
    }
   ],
   "source": [
    "from array import array\n",
    "import math\n",
    "\n",
    "class Vector2d:\n",
    "    typecode = 'd'\n",
    "    ######################  NEW  ######\n",
    "    def __init__(self, x, y):\n",
    "        # Use exactly two leading underscores to make an attribute private\n",
    "        self.__x = float(x)\n",
    "        self.__y = float(y)\n",
    "    \n",
    "    @property # The @property decorator marks the getter method of a property.\n",
    "    def x(self):\n",
    "        return self.__x\n",
    "    @property\n",
    "    def y(self):\n",
    "        return self.__y\n",
    "    ######################  NEW  ######\n",
    "\n",
    "    def __iter__(self):\n",
    "        return (i for i in (self.x, self.y))\n",
    "    def __repr__(self):\n",
    "        class_name = type(self).__name__\n",
    "        return f'{class_name}({self.x!r}, {self.y!r})'\n",
    "    def __str__(self):\n",
    "        return str(tuple(self))\n",
    "    def __bytes__(self):\n",
    "        return (bytes([ord(self.typecode)]) + bytes(array(self.typecode, self)))\n",
    "    def __eq__(self, other):\n",
    "        return tuple(self) == tuple(other)\n",
    "    def __abs__(self):\n",
    "        return math.hypot(self.x, self.y)\n",
    "    def __bool__(self):\n",
    "        return bool(abs(self))\n",
    "    def __format__(self, fmt_spec=''):\n",
    "        if fmt_spec.endswith('p'):\n",
    "            fmt_spec = fmt_spec[:-1]\n",
    "            # call __abs__\n",
    "            coords = (abs(self), self.angle())\n",
    "            outer_fmt = '<{}, {}>'\n",
    "        else:\n",
    "            coords = self\n",
    "            outer_fmt = '({}, {})'\n",
    "        # call `__iter__` if `coords = self`\n",
    "        components = (format(c, fmt_spec) for c in coords)\n",
    "        return outer_fmt.format(*components)\n",
    "\n",
    "    ######################  NEW  ######\n",
    "    def __hash__(self):\n",
    "        # ^ is the XOR operator\n",
    "        return hash(self.x) ^ hash(self.y)\n",
    "    ######################  NEW  ######\n",
    "    @classmethod\n",
    "    def frombytes(cls, octets):\n",
    "        typecode = chr(octets[0])\n",
    "        memv = memoryview(octets[1:]).cast(typecode)\n",
    "        return cls(*memv)\n",
    "    \n",
    "    def angle(self):\n",
    "        return math.atan2(self.y, self.x)\n",
    "\n",
    "v1 = Vector2d(3, 4)\n",
    "v2 = Vector2d(3.1, 4.2)\n",
    "print(hash(v1), hash(v2))\n",
    "set([v1, v2])"
   ]
  },
  {
   "source": [
    "You may also implement the `__int__` and `__float__` methods, invoked by the `int()` and `float()` constructors\n",
    "\n",
    "There’s also a `__complex__` method to support the `complex()` built-in constructor.\n",
    "\n",
    "## Private and “Protected” Attributes in Python\n",
    "If you name an instance attribute in the form `__mood` (**two leading** underscores and **zero or at most one trailing** underscore), Python stores the name in the instance `__dict__` prefixed with a leading underscore and the class name, so in the `Dog` class, `__mood` becomes `_Dog__mood`\n",
    "\n",
    "A single underscore prefix often refers to a protected attribute, meaning that you should not access such attributes from outside the class."
   ],
   "cell_type": "markdown",
   "metadata": {}
  },
  {
   "cell_type": "code",
   "execution_count": 9,
   "metadata": {},
   "outputs": [
    {
     "output_type": "execute_result",
     "data": {
      "text/plain": [
       "({'_Vector2d__x': 3.0, '_Vector2d__y': 4.0}, 3.0)"
      ]
     },
     "metadata": {},
     "execution_count": 9
    }
   ],
   "source": [
    "v1.__dict__, v1._Vector2d__x"
   ]
  },
  {
   "source": [
    "## Saving Memory with `__slots__`\n",
    "By default, Python stores instance attributes in a per-instance `dict` named `__dict__`. If you are dealing with millions of instances with few attributes, the `__slots__` class attribute can save a lot of memory, by letting the interpreter store the instance attributes in a `tuple` instead of a `dict`.\n",
    "\n",
    "A `__slots__` attribute defined in a class is not inherited by subclasses.\n",
    "\n",
    "By defining `__slots__` in the class, you are telling the interpreter: “These are all the instance attributes in this class.”"
   ],
   "cell_type": "markdown",
   "metadata": {}
  },
  {
   "cell_type": "code",
   "execution_count": 10,
   "metadata": {},
   "outputs": [],
   "source": [
    "from array import array\n",
    "import math\n",
    "\n",
    "class Vector2d:\n",
    "    ######################  NEW  ######\n",
    "    __slots__ = ('__x', '__y')\n",
    "    ######################  NEW  ######\n",
    "    typecode = 'd'\n",
    "    def __init__(self, x, y):\n",
    "        # Use exactly two leading underscores to make an attribute private\n",
    "        self.__x = float(x)\n",
    "        self.__y = float(y)\n",
    "    \n",
    "    @property # The @property decorator marks the getter method of a property.\n",
    "    def x(self):\n",
    "        return self.__x\n",
    "    @property\n",
    "    def y(self):\n",
    "        return self.__y\n",
    "\n",
    "    def __iter__(self):\n",
    "        return (i for i in (self.x, self.y))\n",
    "    def __repr__(self):\n",
    "        class_name = type(self).__name__\n",
    "        return f'{class_name}({self.x!r}, {self.y!r})'\n",
    "    def __str__(self):\n",
    "        return str(tuple(self))\n",
    "    def __bytes__(self):\n",
    "        return (bytes([ord(self.typecode)]) + bytes(array(self.typecode, self)))\n",
    "    def __eq__(self, other):\n",
    "        return tuple(self) == tuple(other)\n",
    "    def __abs__(self):\n",
    "        return math.hypot(self.x, self.y)\n",
    "    def __bool__(self):\n",
    "        return bool(abs(self))\n",
    "    def __format__(self, fmt_spec=''):\n",
    "        if fmt_spec.endswith('p'):\n",
    "            fmt_spec = fmt_spec[:-1]\n",
    "            # call __abs__\n",
    "            coords = (abs(self), self.angle())\n",
    "            outer_fmt = '<{}, {}>'\n",
    "        else:\n",
    "            coords = self\n",
    "            outer_fmt = '({}, {})'\n",
    "        # call `__iter__` if `coords = self`\n",
    "        components = (format(c, fmt_spec) for c in coords)\n",
    "        return outer_fmt.format(*components)\n",
    "\n",
    "    def __hash__(self):\n",
    "        # ^ is the XOR operator\n",
    "        return hash(self.x) ^ hash(self.y)\n",
    "    @classmethod\n",
    "    def frombytes(cls, octets):\n",
    "        typecode = chr(octets[0])\n",
    "        memv = memoryview(octets[1:]).cast(typecode)\n",
    "        return cls(*memv)\n",
    "    \n",
    "    def angle(self):\n",
    "        return math.atan2(self.y, self.x)"
   ]
  }
 ]
}