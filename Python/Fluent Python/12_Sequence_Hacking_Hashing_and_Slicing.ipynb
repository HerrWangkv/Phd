{
 "metadata": {
  "language_info": {
   "codemirror_mode": {
    "name": "ipython",
    "version": 3
   },
   "file_extension": ".py",
   "mimetype": "text/x-python",
   "name": "python",
   "nbconvert_exporter": "python",
   "pygments_lexer": "ipython3",
   "version": "3.9.5"
  },
  "orig_nbformat": 4,
  "kernelspec": {
   "name": "python3",
   "display_name": "Python 3.9.5 64-bit ('fluent': conda)"
  },
  "interpreter": {
   "hash": "b49d97cca46654f0638efecf31cc68aac48bbca1dbf9da3c97b7689e9a9e47c8"
  }
 },
 "nbformat": 4,
 "nbformat_minor": 2,
 "cells": [
  {
   "source": [
    "In this chapter, we will create a class to represent a multidimensional Vector class. Vector will behave like a standard Python immutable flat sequence. Its elements will be floats.\n",
    "## `Vector`: A user-defined sequence type\n",
    "### `Vector` Take #1: `Vector2d` Compatible"
   ],
   "cell_type": "markdown",
   "metadata": {}
  },
  {
   "cell_type": "code",
   "execution_count": 1,
   "metadata": {},
   "outputs": [],
   "source": [
    "from array import array\n",
    "import reprlib\n",
    "import math\n",
    "\n",
    "class Vector:\n",
    "    typecode = 'd'\n",
    "    def __init__(self, components):\n",
    "        # 'd' means the elements are float\n",
    "        self._components = array(self.typecode, components)\n",
    "    def __iter__(self):\n",
    "        return iter(self._components)\n",
    "    def __repr__(self):\n",
    "        # get a limited-length representation\n",
    "        components = reprlib.repr(self._components)\n",
    "        components = components[components.find('['):-1]\n",
    "        return f'Vector({components})'\n",
    "    def __str__(self):\n",
    "        return str(tuple(self))\n",
    "    def __bytes__(self):\n",
    "        return bytes([ord(self.typecode)]) + bytes(self._components)\n",
    "    def __eq__(self, other):\n",
    "        return tuple(self) == tuple(other)\n",
    "    def __abs__(self):\n",
    "        return math.hypot(*self)\n",
    "    def __bool__(self):\n",
    "        return bool(abs(self))\n",
    "    @classmethod\n",
    "    def frombytes(cls, octets):\n",
    "        typecode = chr(octets[0])\n",
    "        # handle slices of arrays without copying bytes.\n",
    "        memv = memoryview(octets[1:]).cast(typecode)\n",
    "        return cls(memv)"
   ]
  },
  {
   "source": [
    "### Protocol and Duck Typing\n",
    "The **sequence protocol** in Python entails just the `__len__` and `__getitem__` methods. Any class `Spam` that implements those methods with the standard signature and semantics can be used anywhere a sequence is expected. \n",
    "### Vector Take #2: A Sliceable Sequence"
   ],
   "cell_type": "markdown",
   "metadata": {}
  },
  {
   "cell_type": "code",
   "execution_count": 2,
   "metadata": {},
   "outputs": [
    {
     "output_type": "execute_result",
     "data": {
      "text/plain": [
       "array('d', [1.0, 3.0])"
      ]
     },
     "metadata": {},
     "execution_count": 2
    }
   ],
   "source": [
    "from array import array\n",
    "import reprlib\n",
    "import math\n",
    "\n",
    "class Vector:\n",
    "    typecode = 'd'\n",
    "    def __init__(self, components):\n",
    "        # 'd' means the elements are float\n",
    "        self._components = array(self.typecode, components)\n",
    "    def __iter__(self):\n",
    "        return iter(self._components)\n",
    "    def __repr__(self):\n",
    "        # get a limited-length representation\n",
    "        components = reprlib.repr(self._components)\n",
    "        components = components[components.find('['):-1]\n",
    "        return f'Vector({components})'\n",
    "    def __str__(self):\n",
    "        return str(tuple(self))\n",
    "    def __bytes__(self):\n",
    "        return bytes([ord(self.typecode)]) + bytes(self._components)\n",
    "    def __eq__(self, other):\n",
    "        return tuple(self) == tuple(other)\n",
    "    def __abs__(self):\n",
    "        return math.hypot(*self)\n",
    "    def __bool__(self):\n",
    "        return bool(abs(self))\n",
    "    @classmethod\n",
    "    def frombytes(cls, octets):\n",
    "        typecode = chr(octets[0])\n",
    "        # handle slices of arrays without copying bytes.\n",
    "        memv = memoryview(octets[1:]).cast(typecode)\n",
    "        return cls(memv)\n",
    "    ##########################  NEW  ###\n",
    "    def __len__(self):\n",
    "        return len(self._components)\n",
    "    def __getitem__(self, index):\n",
    "        return self._components[index]\n",
    "    ##########################  NEW  ###\n",
    "\n",
    "v1 = Vector(range(7))\n",
    "v1[1:5:2] # Vector is used like an sequence"
   ]
  },
  {
   "source": [
    "It would be better if a slice of a Vector was also a Vector instance and not a array.\n",
    "### How Slicing works(not used in `Vector` but useful)\n",
    "`[1:4]` is actually equivalent to `slice(1, 4, None)`\n",
    "\n",
    "And `S.indices(len)` can fit the tricky slices (maybe with negative indices) within the `len`"
   ],
   "cell_type": "markdown",
   "metadata": {}
  },
  {
   "cell_type": "code",
   "execution_count": 3,
   "metadata": {},
   "outputs": [
    {
     "output_type": "execute_result",
     "data": {
      "text/plain": [
       "(0, 5, 2)"
      ]
     },
     "metadata": {},
     "execution_count": 3
    }
   ],
   "source": [
    "slice(None, 10, 2).indices(5) # [:10:2] for a sequence with length 5 is actually 0,2,4, also [0:5:2]"
   ]
  },
  {
   "source": [
    "### A Slice-Aware `__getitem__`"
   ],
   "cell_type": "markdown",
   "metadata": {}
  },
  {
   "cell_type": "code",
   "execution_count": 4,
   "metadata": {},
   "outputs": [
    {
     "output_type": "execute_result",
     "data": {
      "text/plain": [
       "Vector([1.0, 3.0])"
      ]
     },
     "metadata": {},
     "execution_count": 4
    }
   ],
   "source": [
    "from array import array\n",
    "import reprlib\n",
    "import math\n",
    "import operator\n",
    "\n",
    "class Vector:\n",
    "    typecode = 'd'\n",
    "    def __init__(self, components):\n",
    "        # 'd' means the elements are float\n",
    "        self._components = array(self.typecode, components)\n",
    "    def __iter__(self):\n",
    "        return iter(self._components)\n",
    "    def __repr__(self):\n",
    "        # get a limited-length representation\n",
    "        components = reprlib.repr(self._components)\n",
    "        components = components[components.find('['):-1]\n",
    "        return f'Vector({components})'\n",
    "    def __str__(self):\n",
    "        return str(tuple(self))\n",
    "    def __bytes__(self):\n",
    "        return bytes([ord(self.typecode)]) + bytes(self._components)\n",
    "    def __eq__(self, other):\n",
    "        return tuple(self) == tuple(other)\n",
    "    def __abs__(self):\n",
    "        return math.hypot(*self)\n",
    "    def __bool__(self):\n",
    "        return bool(abs(self))\n",
    "    @classmethod\n",
    "    def frombytes(cls, octets):\n",
    "        typecode = chr(octets[0])\n",
    "        # handle slices of arrays without copying bytes.\n",
    "        memv = memoryview(octets[1:]).cast(typecode)\n",
    "        return cls(memv)\n",
    "    def __len__(self):\n",
    "        return len(self._components)\n",
    "    ##########################  NEW  ###\n",
    "    def __getitem__(self, index):\n",
    "        if isinstance(index, slice):\n",
    "            cls = type(self)\n",
    "            return cls(self._components[index])\n",
    "            # allow any of the numerous types of integers in NUmpy to be used as slices\n",
    "            index = operator.index(index)\n",
    "        return self._components[index]\n",
    "    ##########################  NEW  ###\n",
    "\n",
    "v1 = Vector(range(7))\n",
    "v1[1:5:2]"
   ]
  },
  {
   "source": [
    "### Vector Take #3: Dynamic Attribute Access\n",
    "The special method `__getattr__` gives us the ability to access vector components by name (e.g., `v.x`, `v.y`) For example we want to access the first 4 components with `v.x, v.y, v.z, v.t`\n",
    "\n",
    "The `__getattr__` method is invoked by the interpreter when attribute lookup fails. So when we assign a value directly to an attribute (althrough maybe not declared before), `__getattr__` method will not be invoked!!!"
   ],
   "cell_type": "markdown",
   "metadata": {}
  },
  {
   "cell_type": "code",
   "execution_count": 5,
   "metadata": {},
   "outputs": [
    {
     "output_type": "execute_result",
     "data": {
      "text/plain": [
       "(Vector([0.0, 1.0, 2.0, 3.0, 4.0, ...]), 5)"
      ]
     },
     "metadata": {},
     "execution_count": 5
    }
   ],
   "source": [
    "from array import array\n",
    "import reprlib\n",
    "import math\n",
    "import operator\n",
    "\n",
    "class Vector:\n",
    "    typecode = 'd'\n",
    "    ##########################  NEW  ###\n",
    "    shortcut_names = 'xyzt'\n",
    "    ##########################  NEW  ###\n",
    "    def __init__(self, components):\n",
    "        # 'd' means the elements are float\n",
    "        self._components = array(self.typecode, components)\n",
    "    ##########################  NEW  ###\n",
    "    def __getattr__(self, name):\n",
    "        cls = type(self)\n",
    "        if (len(name) == 1): # one character\n",
    "            pos = cls.shortcut_names.find(name) # if not found, return -1\n",
    "            if 0 <= pos < len(self._components):\n",
    "                return self._components[pos]\n",
    "        msg = f'{cls.__name__!r} object has no attribute {name!r}'\n",
    "        raise AttributeError(msg)\n",
    "    ##########################  NEW  ###\n",
    "    def __iter__(self):\n",
    "        return iter(self._components)\n",
    "    def __repr__(self):\n",
    "        # get a limited-length representation\n",
    "        components = reprlib.repr(self._components)\n",
    "        components = components[components.find('['):-1]\n",
    "        return f'Vector({components})'\n",
    "    def __str__(self):\n",
    "        return str(tuple(self))\n",
    "    def __bytes__(self):\n",
    "        return bytes([ord(self.typecode)]) + bytes(self._components)\n",
    "    def __eq__(self, other):\n",
    "        return tuple(self) == tuple(other)\n",
    "    def __abs__(self):\n",
    "        return math.hypot(*self)\n",
    "    def __bool__(self):\n",
    "        return bool(abs(self))\n",
    "    @classmethod\n",
    "    def frombytes(cls, octets):\n",
    "        typecode = chr(octets[0])\n",
    "        # handle slices of arrays without copying bytes.\n",
    "        memv = memoryview(octets[1:]).cast(typecode)\n",
    "        return cls(memv)\n",
    "    def __len__(self):\n",
    "        return len(self._components)\n",
    "    def __getitem__(self, index):\n",
    "        if isinstance(index, slice):\n",
    "            cls = type(self)\n",
    "            return cls(self._components[index])\n",
    "            # allow any of the numerous types of integers in NUmpy to be used as slices\n",
    "            index = operator.index(index)\n",
    "        return self._components[index]\n",
    "\n",
    "v1 = Vector(range(7))\n",
    "v1.x = 5\n",
    "v1, v1.x # NOT dynamic"
   ]
  },
  {
   "source": [
    "`__setattr__` method makes it dynamic and avoids inconsistent behaviour"
   ],
   "cell_type": "markdown",
   "metadata": {}
  },
  {
   "cell_type": "code",
   "execution_count": 6,
   "metadata": {},
   "outputs": [
    {
     "output_type": "stream",
     "name": "stdout",
     "text": [
      "read-only attribute 'x'\n"
     ]
    }
   ],
   "source": [
    "from array import array\n",
    "import reprlib\n",
    "import math\n",
    "import operator\n",
    "\n",
    "class Vector:\n",
    "    typecode = 'd'\n",
    "    shortcut_names = 'xyzt'\n",
    "    def __init__(self, components):\n",
    "        # 'd' means the elements are float\n",
    "        self._components = array(self.typecode, components)\n",
    "    def __getattr__(self, name):\n",
    "        cls = type(self)\n",
    "        if (len(name) == 1): # one character\n",
    "            pos = cls.shortcut_names.find(name) # if not found, return -1\n",
    "            if 0 <= pos < len(self._components):\n",
    "                return self._components[pos]\n",
    "        msg = f'{cls.__name__!r} object has no attribute {name!r}'\n",
    "        raise AttributeError(msg)\n",
    "    ##########################  NEW  ###\n",
    "    def __setattr__(self, name, value):\n",
    "        cls = type(self)\n",
    "        if (len(name) == 1):\n",
    "            if name in cls.shortcut_names:\n",
    "                error = 'read-only attribute {attr_name!r}'\n",
    "            else:\n",
    "                error = '{cls_name!r} has no {attr_name!r}'\n",
    "            msg = error.format(cls_name=cls.__name__, attr_name=name)\n",
    "            raise AttributeError(msg)\n",
    "        super().__setattr__(name, value)\n",
    "    ##########################  NEW  ###\n",
    "    def __iter__(self):\n",
    "        return iter(self._components)\n",
    "    def __repr__(self):\n",
    "        # get a limited-length representation\n",
    "        components = reprlib.repr(self._components)\n",
    "        components = components[components.find('['):-1]\n",
    "        return f'Vector({components})'\n",
    "    def __str__(self):\n",
    "        return str(tuple(self))\n",
    "    def __bytes__(self):\n",
    "        return bytes([ord(self.typecode)]) + bytes(self._components)\n",
    "    def __eq__(self, other):\n",
    "        return tuple(self) == tuple(other)\n",
    "    def __abs__(self):\n",
    "        return math.hypot(*self)\n",
    "    def __bool__(self):\n",
    "        return bool(abs(self))\n",
    "    @classmethod\n",
    "    def frombytes(cls, octets):\n",
    "        typecode = chr(octets[0])\n",
    "        # handle slices of arrays without copying bytes.\n",
    "        memv = memoryview(octets[1:]).cast(typecode)\n",
    "        return cls(memv)\n",
    "    def __len__(self):\n",
    "        return len(self._components)\n",
    "    def __getitem__(self, index):\n",
    "        if isinstance(index, slice):\n",
    "            cls = type(self)\n",
    "            return cls(self._components[index])\n",
    "            # allow any of the numerous types of integers in NUmpy to be used as slices\n",
    "            index = operator.index(index)\n",
    "        return self._components[index]\n",
    "\n",
    "v1 = Vector(range(7))\n",
    "try:\n",
    "    v1.x = 5\n",
    "except AttributeError as e:\n",
    "    print(e)"
   ]
  },
  {
   "source": [
    "### Vector Take #4: Hashing and a Faster ==\n",
    "Use `functools.reduce` to apply the xor operator to the hashed of every component: `v[0] ^ v[1] ^...`\n",
    "\n",
    "Let’s say we have a two-argument function `fn` and a list `lst`. When you call `reduce(fn, lst)`, `fn` will be applied to the first pair of elements—`fn(lst[0], lst[1])`—producing a first result, `r1`. Then `fn` is applied to `r1` and the next element—`fn(r1, lst[2])`—producing a second result, `r2`. Now `fn(r2, lst[3])` is called to produce `r3` … and so on until the last element, when a single result, `rN`, is returned."
   ],
   "cell_type": "markdown",
   "metadata": {}
  },
  {
   "cell_type": "code",
   "execution_count": 7,
   "metadata": {},
   "outputs": [
    {
     "output_type": "stream",
     "name": "stdout",
     "text": [
      "120\n"
     ]
    },
    {
     "output_type": "execute_result",
     "data": {
      "text/plain": [
       "120"
      ]
     },
     "metadata": {},
     "execution_count": 7
    }
   ],
   "source": [
    "import functools\n",
    "print(1 * 2 * 3 * 4 * 5)\n",
    "\n",
    "functools.reduce(lambda a, b: a * b, range(1, 6), 1) # the third argument is the initializer"
   ]
  },
  {
   "cell_type": "code",
   "execution_count": 8,
   "metadata": {},
   "outputs": [
    {
     "output_type": "execute_result",
     "data": {
      "text/plain": [
       "True"
      ]
     },
     "metadata": {},
     "execution_count": 8
    }
   ],
   "source": [
    "from array import array\n",
    "import reprlib\n",
    "import math\n",
    "import operator\n",
    "import functools\n",
    "\n",
    "class Vector:\n",
    "    typecode = 'd'\n",
    "    shortcut_names = 'xyzt'\n",
    "    def __init__(self, components):\n",
    "        # 'd' means the elements are float\n",
    "        self._components = array(self.typecode, components)\n",
    "    def __getattr__(self, name):\n",
    "        cls = type(self)\n",
    "        if (len(name) == 1): # one character\n",
    "            pos = cls.shortcut_names.find(name) # if not found, return -1\n",
    "            if 0 <= pos < len(self._components):\n",
    "                return self._components[pos]\n",
    "        msg = f'{cls.__name__!r} object has no attribute {name!r}'\n",
    "        raise AttributeError(msg)\n",
    "    def __setattr__(self, name, value):\n",
    "        cls = type(self)\n",
    "        if (len(name) == 1):\n",
    "            if name in cls.shortcut_names:\n",
    "                error = 'read-only attribute {attr_name!r}'\n",
    "            else:\n",
    "                error = '{cls_name!r} has no {attr_name!r}'\n",
    "            msg = error.format(cls_name=cls.__name__, attr_name=name)\n",
    "            raise AttributeError(msg)\n",
    "        super().__setattr__(name, value)\n",
    "    def __iter__(self):\n",
    "        return iter(self._components)\n",
    "    def __repr__(self):\n",
    "        # get a limited-length representation\n",
    "        components = reprlib.repr(self._components)\n",
    "        components = components[components.find('['):-1]\n",
    "        return f'Vector({components})'\n",
    "    def __str__(self):\n",
    "        return str(tuple(self))\n",
    "    def __bytes__(self):\n",
    "        return bytes([ord(self.typecode)]) + bytes(self._components)\n",
    "    ##########################  NEW  ###\n",
    "    def __eq__(self, other):\n",
    "        return (len(self) == len(other) and all(a == b for a, b in zip(self, other))) # `zip` stops at the shortest operand \n",
    "    def __hash__(self):\n",
    "        return functools.reduce(lambda a, b: hash(a) ^ hash(b), self, 0)\n",
    "    ##########################  NEW  ###\n",
    "    def __abs__(self):\n",
    "        return math.hypot(*self)\n",
    "    def __bool__(self):\n",
    "        return bool(abs(self))\n",
    "    @classmethod\n",
    "    def frombytes(cls, octets):\n",
    "        typecode = chr(octets[0])\n",
    "        # handle slices of arrays without copying bytes.\n",
    "        memv = memoryview(octets[1:]).cast(typecode)\n",
    "        return cls(memv)\n",
    "    def __len__(self):\n",
    "        return len(self._components)\n",
    "    def __getitem__(self, index):\n",
    "        if isinstance(index, slice):\n",
    "            cls = type(self)\n",
    "            return cls(self._components[index])\n",
    "            # allow any of the numerous types of integers in NUmpy to be used as slices\n",
    "            index = operator.index(index)\n",
    "        return self._components[index]\n",
    "\n",
    "v1 = Vector(range(7))\n",
    "hash(v1)\n",
    "v1 == Vector([0,1,2,3,4,5,6.0])"
   ]
  }
 ]
}