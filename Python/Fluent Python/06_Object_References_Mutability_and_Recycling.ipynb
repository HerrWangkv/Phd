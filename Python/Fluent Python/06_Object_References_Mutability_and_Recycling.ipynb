{
 "cells": [
  {
   "cell_type": "markdown",
   "metadata": {},
   "source": [
    "## Variables are Not Boxes\n",
    "Every **object** has an **identity**, a **type** and a **value**. An object’s identity never changes once it has been created; you may think of it as the object’s address in memory.\n",
    "- The `is` operator compares the **identity** of two objects\n",
    "- The `id()` function returns an integer representing its **identity**.\n",
    "- The `==` operator compares the **values** of objects, `a == b` invokes `a.__eq__(b)`\n",
    "\n",
    "Variables and Objects are different in Python! It’s better to think of Python Variables as **labels attached to objects**."
   ]
  },
  {
   "cell_type": "markdown",
   "metadata": {},
   "source": [
    "### Aliases\n",
    "\n",
    "- Aliasing: **An object** has several labels assigned to it\n"
   ]
  },
  {
   "cell_type": "code",
   "execution_count": 1,
   "metadata": {},
   "outputs": [
    {
     "data": {
      "text/plain": [
       "(True, True)"
      ]
     },
     "execution_count": 1,
     "metadata": {},
     "output_type": "execute_result"
    }
   ],
   "source": [
    "a = [1, 2, 3]\n",
    "b = a\n",
    "b is a, id(a) == id(b) # `is` means these two variables are attachted to the same object"
   ]
  },
  {
   "cell_type": "code",
   "execution_count": 2,
   "metadata": {},
   "outputs": [
    {
     "data": {
      "text/plain": [
       "[1, 2, 3, 4]"
      ]
     },
     "execution_count": 2,
     "metadata": {},
     "output_type": "execute_result"
    }
   ],
   "source": [
    "a.append(4) # `append` method does not change the identity\n",
    "b"
   ]
  },
  {
   "cell_type": "markdown",
   "metadata": {},
   "source": [
    "### Note: assignment operator `=` will change the **identity**, but `+=` does not necessarily change the **identity**\n",
    "[Augumented Assignment](./02_An_Array_of_Sequences.ipynb#Augumented_Assignment_with_Sequences) does not change the `id` of mutable sequence, but changes the `id` of immutable sequence, because it creates a new object"
   ]
  },
  {
   "cell_type": "code",
   "execution_count": 3,
   "metadata": {},
   "outputs": [
    {
     "name": "stdout",
     "output_type": "stream",
     "text": [
      "True\n",
      "True\n",
      "False\n"
     ]
    }
   ],
   "source": [
    "a = [1, 2, 3]\n",
    "b = a\n",
    "print(a is b)\n",
    "b += [4]\n",
    "print(a is b)\n",
    "b = [1, 2, 3, 4]\n",
    "print(a is b)"
   ]
  },
  {
   "cell_type": "markdown",
   "metadata": {},
   "source": [
    "`c` and `d` are bound to **distinct objects with the same value**, `d` is not an alias for `c` "
   ]
  },
  {
   "cell_type": "code",
   "execution_count": 4,
   "metadata": {},
   "outputs": [
    {
     "data": {
      "text/plain": [
       "(True, True, False)"
      ]
     },
     "execution_count": 4,
     "metadata": {},
     "output_type": "execute_result"
    }
   ],
   "source": [
    "c = [1, 2, 3]\n",
    "d = [1, 2, 3]\n",
    "c == d, c is not d, id(c) == id(d)"
   ]
  },
  {
   "cell_type": "markdown",
   "metadata": {},
   "source": [
    "### The relative Immutability of Tuples\n",
    "Tuples, like most Python collections—lists, dicts, sets, etc.— hold **references to objects**.\n",
    "\n",
    "Immutability of Tuples means **the identity of elements can not be changed**. But in some case, **the value of an object can vary without changing its identity**"
   ]
  },
  {
   "cell_type": "code",
   "execution_count": 5,
   "metadata": {},
   "outputs": [
    {
     "name": "stdout",
     "output_type": "stream",
     "text": [
      "True\n"
     ]
    },
    {
     "data": {
      "text/plain": [
       "(True, False)"
      ]
     },
     "execution_count": 5,
     "metadata": {},
     "output_type": "execute_result"
    }
   ],
   "source": [
    "t1 = (1, 2, [30, 40])\n",
    "t2 = (1, 2, [30, 40])\n",
    "print(t1 is not t2)\n",
    "old_id = id(t1[-1])\n",
    "t1[-1].append(50)\n",
    "new_id = id(t1[-1])\n",
    "old_id == new_id, t1 == t2"
   ]
  },
  {
   "cell_type": "markdown",
   "metadata": {},
   "source": [
    "## Copies are shallow by default\n",
    "Using the constructor or `[:]` produces a shallow copy (i.e., the outermost container is duplicated, but the copy is filled with **references to the same items held by the original container**). \n",
    "\n",
    "D.h. The identity of the sequence is different from its copy, but the identities of their items are the same"
   ]
  },
  {
   "cell_type": "code",
   "execution_count": 6,
   "metadata": {},
   "outputs": [
    {
     "data": {
      "text/plain": [
       "(False, True, True)"
      ]
     },
     "execution_count": 6,
     "metadata": {},
     "output_type": "execute_result"
    }
   ],
   "source": [
    "l1 = [1, [1, 2]]\n",
    "l2 = list(l1)\n",
    "l3 = l1[:]\n",
    "l1 is l2, l1[1] is l2[1], l1 == l2 == l3"
   ]
  },
  {
   "cell_type": "code",
   "execution_count": 7,
   "metadata": {},
   "outputs": [
    {
     "data": {
      "text/plain": [
       "([1, [1, 2, 3], 100], [1, [1, 2, 3]], [1, [1, 2, 3]])"
      ]
     },
     "execution_count": 7,
     "metadata": {},
     "output_type": "execute_result"
    }
   ],
   "source": [
    "# Appending to the container has no effect to its copy\n",
    "# But appending one of the mutable items has effect to its copy\n",
    "l1.append(100)\n",
    "l1[1].append(3) # l1[1] is an alias for l2[1]\n",
    "l1, l2, l3"
   ]
  },
  {
   "cell_type": "markdown",
   "metadata": {},
   "source": [
    "### Deep and Shallow Copies of Arbitrary Objects using `deepcopy()` and `copy()`\n",
    "Deep copies: duplicates that **do not share references of embedded objects**"
   ]
  },
  {
   "cell_type": "code",
   "execution_count": 8,
   "metadata": {},
   "outputs": [
    {
     "name": "stdout",
     "output_type": "stream",
     "text": [
      "139688849697280 139688849697376 139688849697616\n",
      "139688849644736 139688849644736 139688849642048\n"
     ]
    },
    {
     "data": {
      "text/plain": [
       "(['Alice', 'Claire', 'David'], ['Alice', 'Bill', 'Claire', 'David'])"
      ]
     },
     "execution_count": 8,
     "metadata": {},
     "output_type": "execute_result"
    }
   ],
   "source": [
    "import copy\n",
    "class Bus:\n",
    "    def __init__(self, passengers=None):\n",
    "        if passengers is None:\n",
    "            self.passengers = []\n",
    "        else:\n",
    "            self.passengers = list(passengers)\n",
    "    def pick(self, name):\n",
    "        self.passengers.append(name)\n",
    "\n",
    "    def drop(self, name):\n",
    "        self.passengers.remove(name)\n",
    "\n",
    "bus1 = Bus(['Alice', 'Bill', 'Claire', 'David'])\n",
    "bus2 = copy.copy(bus1)\n",
    "bus3 = copy.deepcopy(bus1)\n",
    "print(id(bus1), id(bus2), id(bus3))\n",
    "print(id(bus1.passengers), id(bus2.passengers), id(bus3.passengers))\n",
    "bus1.drop('Bill') # bus2 also drops Bill\n",
    "bus2.passengers, bus3.passengers"
   ]
  },
  {
   "cell_type": "markdown",
   "metadata": {},
   "source": [
    "You can control the behavior of both `copy` and `deepcopy` by implementing the `__copy__()` and `__deepcopy__()` special methods"
   ]
  },
  {
   "cell_type": "markdown",
   "metadata": {},
   "source": [
    "## Function Parameters as References\n",
    "The only mode of parameter passing in Python is **call by sharing**. The parameters inside the function become **aliases of the actual arguments**. The result of this scheme is that a function may change any **mutable object**(`list` etc.) passed as a parameter, but it **cannot change the identity of those objects**. If parameters are forced to change their `id`s, a new object will be created. "
   ]
  },
  {
   "cell_type": "code",
   "execution_count": 9,
   "metadata": {},
   "outputs": [
    {
     "data": {
      "text/plain": [
       "(3, 1, 2)"
      ]
     },
     "execution_count": 9,
     "metadata": {},
     "output_type": "execute_result"
    }
   ],
   "source": [
    "def f(a, b):\n",
    "    a += b\n",
    "    return a\n",
    "x, y = 1, 2\n",
    "f(x, y), x, y"
   ]
  },
  {
   "cell_type": "markdown",
   "metadata": {},
   "source": [
    "## Note: assignment operator `=` will change the **identify**, but `+=` does not necessarily change the **identify**\n",
    "[Augumented Assignment](./02_An_Array_of_Sequences.ipynb#Augumented_Assignment_with_Sequences) does not change the `id` of mutable sequence, but changes the `id` of immutable sequence, because it creates a new object"
   ]
  },
  {
   "cell_type": "code",
   "execution_count": 10,
   "metadata": {},
   "outputs": [
    {
     "data": {
      "text/plain": [
       "([1, 2, 3, 4], [1, 2, 3, 4], [4])"
      ]
     },
     "execution_count": 10,
     "metadata": {},
     "output_type": "execute_result"
    }
   ],
   "source": [
    "l1 = [1, 2, 3]\n",
    "l2 = [4]\n",
    "f(l1, l2), l1, l2 # Augumented Assignment does not change the `id` of mutable sequence"
   ]
  },
  {
   "cell_type": "code",
   "execution_count": 11,
   "metadata": {},
   "outputs": [
    {
     "data": {
      "text/plain": [
       "((1, 2, 3, 4), (1, 2), (3, 4))"
      ]
     },
     "execution_count": 11,
     "metadata": {},
     "output_type": "execute_result"
    }
   ],
   "source": [
    "t1 = (1, 2)\n",
    "t2 = (3, 4)\n",
    "f(t1, t2), t1, t2 # Augumented Assignment changes the `id` of immutable sequence, because it creates a new object"
   ]
  },
  {
   "cell_type": "markdown",
   "metadata": {},
   "source": [
    "### Mutable Types as Parameter Defaults: Bad Idea\n",
    "Let's see an example of haunted bus:"
   ]
  },
  {
   "cell_type": "code",
   "execution_count": 12,
   "metadata": {},
   "outputs": [
    {
     "data": {
      "text/plain": [
       "(['Carrie'], True)"
      ]
     },
     "execution_count": 12,
     "metadata": {},
     "output_type": "execute_result"
    }
   ],
   "source": [
    "class HauntedBus:\n",
    "    \"\"\"A bus model haunted by ghost passengers\"\"\"\n",
    "    # Use Mutable types as Parameter defaults\n",
    "    def __init__(self, passengers=[]):\n",
    "        # This assignment makes `self.passengers` an alias for passengers, which is itself an alias for the default list, when no `passengers` argument is given. \n",
    "        self.passengers = passengers  \n",
    "\n",
    "    def pick(self, name):\n",
    "        self.passengers.append(name)  \n",
    "\n",
    "    def drop(self, name):\n",
    "        self.passengers.remove(name)\n",
    "\n",
    "bus1 = HauntedBus()\n",
    "bus1.pick('Carrie')\n",
    "bus2 = HauntedBus()\n",
    "bus2.passengers, bus1.passengers is bus2.passengers # same identity"
   ]
  },
  {
   "cell_type": "markdown",
   "metadata": {},
   "source": [
    "### Defensive Programming with Mutable Parameters\n"
   ]
  },
  {
   "cell_type": "code",
   "execution_count": 13,
   "metadata": {},
   "outputs": [
    {
     "data": {
      "text/plain": [
       "['Sue', 'Maya', 'Diana']"
      ]
     },
     "execution_count": 13,
     "metadata": {},
     "output_type": "execute_result"
    }
   ],
   "source": [
    "class TwilightBus:\n",
    "    \"\"\"A bus model that makes passengers vanish\"\"\"\n",
    "\n",
    "    def __init__(self, passengers=None):\n",
    "        if passengers is None:\n",
    "            self.passengers = []  \n",
    "        else:\n",
    "            self.passengers = passengers # The bus is aliasing the list that is passed to the constructor.\n",
    "\n",
    "    def pick(self, name):\n",
    "        self.passengers.append(name)\n",
    "\n",
    "    def drop(self, name):\n",
    "        self.passengers.remove(name)\n",
    "\n",
    "basketball_team = ['Sue', 'Tina', 'Maya', 'Diana', 'Pat']\n",
    "bus = TwilightBus(basketball_team)\n",
    "bus.drop('Tina')\n",
    "bus.drop('Pat')\n",
    "basketball_team # `list` object will also be changed"
   ]
  },
  {
   "cell_type": "code",
   "execution_count": 14,
   "metadata": {},
   "outputs": [
    {
     "data": {
      "text/plain": [
       "['Sue', 'Tina', 'Maya', 'Diana', 'Pat']"
      ]
     },
     "execution_count": 14,
     "metadata": {},
     "output_type": "execute_result"
    }
   ],
   "source": [
    "class TwilightBus:\n",
    "    def __init__(self, passengers=None):\n",
    "            if passengers is None:\n",
    "                self.passengers = []\n",
    "            else:\n",
    "                self.passengers = list(passengers) # shallow copy using the constructer\n",
    "    def pick(self, name):\n",
    "        self.passengers.append(name)\n",
    "\n",
    "    def drop(self, name):\n",
    "        self.passengers.remove(name)\n",
    "        \n",
    "basketball_team = ['Sue', 'Tina', 'Maya', 'Diana', 'Pat']\n",
    "bus = TwilightBus(basketball_team)\n",
    "bus.drop('Tina')\n",
    "bus.drop('Pat')\n",
    "basketball_team"
   ]
  },
  {
   "cell_type": "markdown",
   "metadata": {},
   "source": [
    "## `del` and Garbage Collection\n",
    "The `del` statement deletes variables, not objects. An object may be garbage collected as result of a del command, but only if the variable deleted holds **the last reference** to the object, or if the object becomes unreachable.\n",
    "\n",
    "Each object keeps count of how many references point to it. As soon as that refcount reaches zero, the object is immediately destroyed: CPython calls the __del__ method on the object (if defined) and then frees the memory allocated to the object. \n",
    "\n",
    "We use `weakref.finalize` to register a callback function to be called when an object is destroyed."
   ]
  },
  {
   "cell_type": "code",
   "execution_count": 15,
   "metadata": {},
   "outputs": [
    {
     "name": "stdout",
     "output_type": "stream",
     "text": [
      "True\n",
      "True\n",
      "Gone with the wind...\n",
      "False\n"
     ]
    }
   ],
   "source": [
    "import weakref\n",
    "\n",
    "s1 = {1, 2, 3}\n",
    "s2 = s1 # alias for {1, 2, 3}\n",
    "def bye():\n",
    "    print('Gone with the wind...')\n",
    "\n",
    "ender = weakref.finalize(s1, bye)\n",
    "print(ender.alive)\n",
    "del s1 # do not delete objects, only delete variables\n",
    "print(ender.alive)\n",
    "s2 = 'spam' # inplicitly call `bye`\n",
    "print(ender.alive)"
   ]
  },
  {
   "cell_type": "markdown",
   "metadata": {},
   "source": [
    "## Weak References\n",
    "Weak references to an object do not increase its reference count. Therefore, we say that a weak reference does not prevent the referent from being garbage collected.\n",
    "\n",
    "If the object is alive, calling the weak reference returns it, otherwise `None` is returned."
   ]
  },
  {
   "cell_type": "code",
   "execution_count": 16,
   "metadata": {},
   "outputs": [
    {
     "name": "stdout",
     "output_type": "stream",
     "text": [
      "{0, 1}\n",
      "None\n"
     ]
    }
   ],
   "source": [
    "import weakref\n",
    "a_set = {0, 1}\n",
    "wref = weakref.ref(a_set)\n",
    "print(wref())\n",
    "a_set = {2, 3, 4} # no variable points to {0, 1}\n",
    "print(wref())"
   ]
  },
  {
   "cell_type": "markdown",
   "metadata": {},
   "source": [
    "## The `weakref.WeakValueDictionary` Skit\n",
    "The class `WeakValueDictionary` implements a mutable mapping where the **values** are weak references to objects. When a referred object is garbage collected elsewhere in the program, the corresponding key is automatically removed from `WeakValueDictionary`. "
   ]
  },
  {
   "cell_type": "code",
   "execution_count": 17,
   "metadata": {},
   "outputs": [
    {
     "name": "stdout",
     "output_type": "stream",
     "text": [
      "['Brie', 'Parmesan', 'Red Leicester', 'Tilsit']\n",
      "['Parmesan']\n",
      "[]\n"
     ]
    }
   ],
   "source": [
    "import weakref\n",
    "\n",
    "class Cheese:\n",
    "\n",
    "    def __init__(self, kind):\n",
    "        self.kind = kind\n",
    "\n",
    "    def __repr__(self):\n",
    "        return f'Cheese({self.kind!r})'\n",
    "\n",
    "stock = weakref.WeakValueDictionary()\n",
    "catalog = [Cheese('Red Leicester'), Cheese('Tilsit'), Cheese('Brie'), Cheese('Parmesan')]\n",
    "for cheese in catalog:\n",
    "    stock[cheese.kind] = cheese # The `stock` maps the name of the cheese to a weak reference to the cheese instance in the catalog.\n",
    "print(sorted(stock.keys()))\n",
    "del catalog\n",
    "print(sorted(stock.keys())) # `cheese` has the last reference\n",
    "del cheese\n",
    "print(sorted(stock.keys()))"
   ]
  },
  {
   "cell_type": "markdown",
   "metadata": {},
   "source": [
    "### Limitations of Weak references\n",
    "Basic `list` and `dict` instances may not be referents of a weak reference, but a plain subclass of either can solve this problem easily"
   ]
  },
  {
   "cell_type": "code",
   "execution_count": 18,
   "metadata": {},
   "outputs": [
    {
     "name": "stdout",
     "output_type": "stream",
     "text": [
      "cannot create weak reference to 'list' object\n"
     ]
    },
    {
     "data": {
      "text/plain": [
       "[0, 1, 2, 3, 4, 5, 6, 7, 8, 9]"
      ]
     },
     "execution_count": 18,
     "metadata": {},
     "output_type": "execute_result"
    }
   ],
   "source": [
    "class MyList(list):\n",
    "    \"\"\"list subclass whose instances may be weakly referenced\"\"\"\n",
    "a_list = list(range(10))\n",
    "try:\n",
    "    wref_to_list = weakref.ref(a_list)\n",
    "except TypeError as e:\n",
    "    print(e)\n",
    "\n",
    "a_subclass = MyList(range(10))\n",
    "wref_to_list = weakref.ref(a_subclass)\n",
    "wref_to_list()"
   ]
  },
  {
   "cell_type": "markdown",
   "metadata": {},
   "source": [
    "### Some Tricks\n",
    "for a tuple `t`, `t[:]` does not make a copy, but returns a reference to the same object. You also get a reference to the same tuple if you write `tuple(t)`"
   ]
  },
  {
   "cell_type": "code",
   "execution_count": 19,
   "metadata": {},
   "outputs": [
    {
     "data": {
      "text/plain": [
       "True"
      ]
     },
     "execution_count": 19,
     "metadata": {},
     "output_type": "execute_result"
    }
   ],
   "source": [
    "a = (1, 2)\n",
    "a[:] is a"
   ]
  }
 ],
 "metadata": {
  "kernelspec": {
   "display_name": "Python 3.6.9 64-bit",
   "language": "python",
   "name": "python3"
  },
  "language_info": {
   "codemirror_mode": {
    "name": "ipython",
    "version": 3
   },
   "file_extension": ".py",
   "mimetype": "text/x-python",
   "name": "python",
   "nbconvert_exporter": "python",
   "pygments_lexer": "ipython3",
   "version": "3.6.9"
  },
  "vscode": {
   "interpreter": {
    "hash": "31f2aee4e71d21fbe5cf8b01ff0e069b9275f58929596ceb00d14d90e3e16cd6"
   }
  }
 },
 "nbformat": 4,
 "nbformat_minor": 2
}
