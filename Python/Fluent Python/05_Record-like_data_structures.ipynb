{
 "metadata": {
  "language_info": {
   "codemirror_mode": {
    "name": "ipython",
    "version": 3
   },
   "file_extension": ".py",
   "mimetype": "text/x-python",
   "name": "python",
   "nbconvert_exporter": "python",
   "pygments_lexer": "ipython3",
   "version": "3.8.5"
  },
  "orig_nbformat": 4,
  "kernelspec": {
   "name": "python3",
   "display_name": "Python 3.8.5 64-bit ('base': conda)"
  },
  "interpreter": {
   "hash": "a833c099db7b05f61158e7bfba6f13b412003cbf9af5e7abee035c4baebbd990"
  }
 },
 "nbformat": 4,
 "nbformat_minor": 2,
 "cells": [
  {
   "source": [
    "## Overview of data class builders\n",
    "A simple class can usually not achieve our goal."
   ],
   "cell_type": "markdown",
   "metadata": {}
  },
  {
   "cell_type": "code",
   "execution_count": 1,
   "metadata": {},
   "outputs": [
    {
     "output_type": "stream",
     "name": "stdout",
     "text": [
      "<__main__.Coordinate object at 0x7f7a144bc970>\n"
     ]
    },
    {
     "output_type": "execute_result",
     "data": {
      "text/plain": [
       "False"
      ]
     },
     "metadata": {},
     "execution_count": 1
    }
   ],
   "source": [
    "class Coordinate:\n",
    "    def __init__(self, lat, long):\n",
    "        self.lat = lat\n",
    "        self.long = long\n",
    "\n",
    "moscow = Coordinate(55, 37)\n",
    "print(moscow) # `__repr__` and `__str` do not represent this object clearly\n",
    "location = Coordinate(55, 37)\n",
    "location == moscow # `__eq__` method inherited from object compares `id`s"
   ]
  },
  {
   "source": [
    "### data class builder `collections.namedtuple`"
   ],
   "cell_type": "markdown",
   "metadata": {}
  },
  {
   "cell_type": "code",
   "execution_count": 2,
   "metadata": {},
   "outputs": [
    {
     "output_type": "stream",
     "name": "stdout",
     "text": [
      "Coordinate(lat=55, long=37)\n"
     ]
    },
    {
     "output_type": "execute_result",
     "data": {
      "text/plain": [
       "True"
      ]
     },
     "metadata": {},
     "execution_count": 2
    }
   ],
   "source": [
    "from collections import namedtuple\n",
    "# first argument for `__repr__`\n",
    "Coordinate1 = namedtuple('Coordinate', ['lat', 'long'])\n",
    "\n",
    "moscow = Coordinate1(55, 37)\n",
    "print(moscow) # useful `__repr__` \n",
    "location = Coordinate1(55, 37)\n",
    "location == moscow # meaningful `__eq__`"
   ]
  },
  {
   "source": [
    "### data class builder `typing.Nameduple`\n",
    "provides the same functionality, adding a type annotation to each field"
   ],
   "cell_type": "markdown",
   "metadata": {}
  },
  {
   "cell_type": "code",
   "execution_count": 3,
   "metadata": {},
   "outputs": [
    {
     "output_type": "stream",
     "name": "stdout",
     "text": [
      "Coordinate(lat=55, long=37)\nTrue\n"
     ]
    },
    {
     "output_type": "execute_result",
     "data": {
      "text/plain": [
       "{'lat': float, 'long': float}"
      ]
     },
     "metadata": {},
     "execution_count": 3
    }
   ],
   "source": [
    "import typing\n",
    "\n",
    "# first argument for `__repr__`\n",
    "Coordinate2 = typing.NamedTuple('Coordinate', [('lat', float), ('long', float)])\n",
    "\n",
    "moscow = Coordinate2(55, 37)\n",
    "print(moscow) # useful `__repr__` if (`__str__` not implemented)\n",
    "location = Coordinate2(55, 37)\n",
    "print(location == moscow) # meaningful `__eq__`\n",
    "Coordinate2.__annotations__"
   ]
  },
  {
   "cell_type": "code",
   "execution_count": 4,
   "metadata": {},
   "outputs": [
    {
     "output_type": "stream",
     "name": "stdout",
     "text": [
      "55.0N, 37.0E\nTrue\n"
     ]
    },
    {
     "output_type": "execute_result",
     "data": {
      "text/plain": [
       "(Coordinate(lat=55, long=37), {'lat': float, 'long': float})"
      ]
     },
     "metadata": {},
     "execution_count": 4
    }
   ],
   "source": [
    "# `typing.NamedTuple` can supports class statement syntax\n",
    "class Coordinate2(typing.NamedTuple):\n",
    "    lat:float\n",
    "    long:float\n",
    "    def __repr__(self):\n",
    "        return f'Coordinate(lat={self.lat}, long={self.long})'\n",
    "    def __str__(self):\n",
    "        ns = 'N' if self.lat >= 0 else 'S'\n",
    "        we = 'E' if self.long >= 0 else 'W'\n",
    "        return f'{abs(self.lat):.1f}{ns}, {abs(self.long):.1f}{we}'\n",
    "moscow = Coordinate2(55, 37)\n",
    "print(moscow) # useful `__str__` \n",
    "location = Coordinate2(55, 37)\n",
    "print(location == moscow) # meaningful `__eq__`\n",
    "moscow, Coordinate2.__annotations__"
   ]
  },
  {
   "source": [
    "### data class builder `@dataclass`\n",
    "Like `typing.NamedTuple`, the `dataclass` decorator supports PEP 526 syntax to declare instance attributes. The decorator reads the variable annotations and automatically generates methods for your class. "
   ],
   "cell_type": "markdown",
   "metadata": {}
  },
  {
   "cell_type": "code",
   "execution_count": 5,
   "metadata": {},
   "outputs": [
    {
     "output_type": "stream",
     "name": "stdout",
     "text": [
      "55.0N, 37.0E\nTrue\n"
     ]
    },
    {
     "output_type": "execute_result",
     "data": {
      "text/plain": [
       "(Coordinate(lat=55, long=37), {'lat': float, 'long': float})"
      ]
     },
     "metadata": {},
     "execution_count": 5
    }
   ],
   "source": [
    "from dataclasses import dataclass\n",
    "\n",
    "# frozen = True if we want immutable instances\n",
    "@dataclass(frozen=False)\n",
    "class Coordinate3:\n",
    "    lat:float\n",
    "    long:float\n",
    "    def __repr__(self):\n",
    "        return f'Coordinate(lat={self.lat}, long={self.long})'\n",
    "    def __str__(self):\n",
    "        ns = 'N' if self.lat >= 0 else 'S'\n",
    "        we = 'E' if self.long >= 0 else 'W'\n",
    "        return f'{abs(self.lat):.1f}{ns}, {abs(self.long):.1f}{we}'\n",
    "moscow = Coordinate3(55, 37)\n",
    "print(moscow) # useful `__str__` \n",
    "location = Coordinate3(55, 37)\n",
    "print(location == moscow) # meaningful `__eq__`\n",
    "moscow, Coordinate3.__annotations__"
   ]
  },
  {
   "source": [
    "### Mutable instances\n",
    "\n",
    "A key difference between these class builders is that `collections.namedtuple` and `typing.NamedTuple` build `tuple` subclasses, therefore the instances are **immutable**. By default, `@dataclass` produces mutable classes, unless we set `frozen = True`"
   ],
   "cell_type": "markdown",
   "metadata": {}
  },
  {
   "cell_type": "code",
   "execution_count": 6,
   "metadata": {},
   "outputs": [
    {
     "output_type": "stream",
     "name": "stdout",
     "text": [
      "can't set attribute for `tuple`\n"
     ]
    },
    {
     "output_type": "execute_result",
     "data": {
      "text/plain": [
       "Coordinate(lat=40, long=37)"
      ]
     },
     "metadata": {},
     "execution_count": 6
    }
   ],
   "source": [
    "beijing = Coordinate1(39, 116)\n",
    "berlin = Coordinate2(52, 13)\n",
    "moscow = Coordinate3(55, 37)\n",
    "try:\n",
    "    beijing.lat = 40\n",
    "except AttributeError:\n",
    "    print(\"can't set attribute for `tuple`\")\n",
    "moscow.lat = 40\n",
    "moscow"
   ]
  },
  {
   "source": [
    "### Construct dict\n",
    "\n",
    "- Both named tuple variants provide an instance method (`._asdict`) to construct a dict object\n",
    "- `@dataclass` provides a module-level function to do it: `dataclasses.asdict`"
   ],
   "cell_type": "markdown",
   "metadata": {}
  },
  {
   "cell_type": "code",
   "execution_count": 7,
   "metadata": {},
   "outputs": [
    {
     "output_type": "execute_result",
     "data": {
      "text/plain": [
       "({'lat': 39, 'long': 116}, {'lat': 52, 'long': 13}, {'lat': 40, 'long': 37})"
      ]
     },
     "metadata": {},
     "execution_count": 7
    }
   ],
   "source": [
    "import dataclasses\n",
    "beijing._asdict(), berlin._asdict(), dataclasses.asdict(moscow)"
   ]
  },
  {
   "source": [
    "### Get field names and default values\n",
    "All three class builders let you get the field names and default values that may be configured for them. \n",
    "- In named tuple classes, that metadata is in the ._fields and ._fields_defaults class attributes. \n",
    "- You can get the same metadata from a dataclass decorated class using the `fields` function from the dataclasses module. "
   ],
   "cell_type": "markdown",
   "metadata": {}
  },
  {
   "cell_type": "code",
   "execution_count": 8,
   "metadata": {},
   "outputs": [
    {
     "output_type": "stream",
     "name": "stdout",
     "text": [
      "lat <dataclasses._MISSING_TYPE object at 0x7f7a14492190>\nlong <dataclasses._MISSING_TYPE object at 0x7f7a14492190>\n"
     ]
    },
    {
     "output_type": "execute_result",
     "data": {
      "text/plain": [
       "(('lat', 'long'), {})"
      ]
     },
     "metadata": {},
     "execution_count": 8
    }
   ],
   "source": [
    "for attribute in dataclasses.fields(moscow):\n",
    "    print(attribute.name, attribute.default)\n",
    "beijing._fields, beijing._fields_defaults, "
   ]
  },
  {
   "source": [
    "## Classic Named Tuples\n"
   ],
   "cell_type": "markdown",
   "metadata": {}
  },
  {
   "cell_type": "code",
   "execution_count": 9,
   "metadata": {},
   "outputs": [
    {
     "output_type": "stream",
     "name": "stdout",
     "text": [
      "City(name='Tokyo', country='JP', population=36.933, coordinates=(35, 139))\n"
     ]
    },
    {
     "output_type": "execute_result",
     "data": {
      "text/plain": [
       "City(name='Delhi NCR', country='IN', population=21.935, coordinates=Coordinate(lat=28, log=77))"
      ]
     },
     "metadata": {},
     "execution_count": 9
    }
   ],
   "source": [
    "from collections import namedtuple\n",
    "\n",
    "Coordinate = namedtuple('Coordinate', 'lat log')\n",
    "City = namedtuple('City', 'name country population coordinates')\n",
    "tokyo = City('Tokyo', 'JP', 36.933, (35, 139))\n",
    "print(tokyo)\n",
    "delhi_data = ('Delhi NCR', 'IN', 21.935, Coordinate(28, 77))\n",
    "delhi = City(*delhi_data)\n",
    "delhi"
   ]
  },
  {
   "source": [
    "Since Python 3.7, `namedtuple` accepts the defaults keyword-only argument providing an iterable of N default values for each of the N rightmost fields of the class."
   ],
   "cell_type": "markdown",
   "metadata": {}
  },
  {
   "cell_type": "code",
   "execution_count": 10,
   "metadata": {},
   "outputs": [
    {
     "output_type": "execute_result",
     "data": {
      "text/plain": [
       "{'reference': 'WGS84'}"
      ]
     },
     "metadata": {},
     "execution_count": 10
    }
   ],
   "source": [
    "Coordinate = namedtuple('Coordinate', 'lat log reference', defaults=['WGS84'])\n",
    "Coordinate._field_defaults"
   ]
  },
  {
   "source": [
    "## Typed Named Tuples\n"
   ],
   "cell_type": "markdown",
   "metadata": {}
  },
  {
   "cell_type": "code",
   "execution_count": 11,
   "metadata": {},
   "outputs": [
    {
     "output_type": "execute_result",
     "data": {
      "text/plain": [
       "{'reference': 'WGS84'}"
      ]
     },
     "metadata": {},
     "execution_count": 11
    }
   ],
   "source": [
    "import typing\n",
    "class Coordinate(typing.NamedTuple):\n",
    "    lat:float\n",
    "    long:float\n",
    "    reference:str = 'WGS84' # default value\n",
    "Coordinate._field_defaults"
   ]
  },
  {
   "source": [
    "### Type annotations\n",
    "1. Type annotations don’t have any impact on the runtime behavior of Python programs. No type checking at runtime!"
   ],
   "cell_type": "markdown",
   "metadata": {}
  },
  {
   "cell_type": "code",
   "execution_count": 12,
   "metadata": {},
   "outputs": [
    {
     "output_type": "stream",
     "name": "stdout",
     "text": [
      "Coordinate(lat='string', long=None, reference='WGS84')\n"
     ]
    }
   ],
   "source": [
    "trash = Coordinate('string', None) # no type checking at runtime!\n",
    "print(trash)"
   ]
  },
  {
   "source": [
    "2. Basic syntax of type annotations defined in PEP526\n",
    "\n",
    "`var_name: some_type = a_value`"
   ],
   "cell_type": "markdown",
   "metadata": {}
  },
  {
   "cell_type": "code",
   "execution_count": 13,
   "metadata": {},
   "outputs": [
    {
     "output_type": "stream",
     "name": "stdout",
     "text": [
      "type object 'PlainClass' has no attribute 'a'\n"
     ]
    },
    {
     "output_type": "execute_result",
     "data": {
      "text/plain": [
       "({'a': int, 'b': float}, 1.1, 'dummy')"
      ]
     },
     "metadata": {},
     "execution_count": 13
    }
   ],
   "source": [
    "# For a plain class\n",
    "class PlainClass:\n",
    "    a: int\n",
    "    b: float = 1.1\n",
    "    c = 'dummy' # not a type annotation, just an attribute\n",
    "\n",
    "try: \n",
    "    print(PlainClass.a) # `a` doesn’t become a class attribute because no value is bound to it\n",
    "except AttributeError:\n",
    "    print(\"type object 'PlainClass' has no attribute 'a'\") \n",
    "# `__annotations__` is created by the intepreter even in a plain class\n",
    "PlainClass.__annotations__, PlainClass.b, PlainClass.c"
   ]
  },
  {
   "cell_type": "code",
   "execution_count": 14,
   "metadata": {},
   "outputs": [
    {
     "output_type": "stream",
     "name": "stdout",
     "text": [
      "{'a': <class 'int'>, 'b': <class 'float'>}\n <_collections._tuplegetter object at 0x7f7a14481940>\n <_collections._tuplegetter object at 0x7f7a14481730>\n dummy\n"
     ]
    },
    {
     "output_type": "execute_result",
     "data": {
      "text/plain": [
       "(1, 1.1, 'dummy')"
      ]
     },
     "metadata": {},
     "execution_count": 14
    }
   ],
   "source": [
    "# For a Named Tuple class\n",
    "import typing\n",
    "\n",
    "class NTClass(typing.NamedTuple):\n",
    "    a: int\n",
    "    b: float = 1.1\n",
    "    c = 'dummy' # not a type annotation, just an attribute\n",
    "\n",
    "# `a` and `b` are `descriptors`, can be understood as read-only instance attributes\n",
    "# will be covered in Chapter 24\n",
    "print(f'{NTClass.__annotations__}\\n {NTClass.a}\\n {NTClass.b}\\n {NTClass.c}')\n",
    "nt = NTClass(1)\n",
    "nt.a, nt.b, nt.c"
   ]
  },
  {
   "cell_type": "code",
   "execution_count": 15,
   "metadata": {},
   "outputs": [
    {
     "output_type": "stream",
     "name": "stdout",
     "text": [
      "type object 'DataClass' has no attribute 'a'\n"
     ]
    },
    {
     "output_type": "execute_result",
     "data": {
      "text/plain": [
       "({'a': int, 'b': float}, 1.1, 'dummy')"
      ]
     },
     "metadata": {},
     "execution_count": 15
    }
   ],
   "source": [
    "# For a `class` decorated with `@dataclass`\n",
    "from dataclasses import dataclass\n",
    "\n",
    "@dataclass\n",
    "class DataClass:\n",
    "    a: int\n",
    "    b: float = 1.1\n",
    "    c = 'dummy' # not a type annotation, just an attribute\n",
    "\n",
    "try: \n",
    "    print(DataClass.a) # `a` doesn’t become a class attribute because no value is bound to it\n",
    "except AttributeError:\n",
    "    print(\"type object 'DataClass' has no attribute 'a'\") \n",
    "# `__annotations__` is created by the intepreter even in a plain class\n",
    "DataClass.__annotations__, DataClass.b, DataClass.c"
   ]
  },
  {
   "source": [
    "## Field Options\n",
    "- Fields are read in order, and after you declare a field with a default value, all remaining fields must also have default values. \n",
    "- Mutable default values are a common source of bugs. To prevent bugs, @dataclass rejects the class definition with mutable default values"
   ],
   "cell_type": "markdown",
   "metadata": {}
  },
  {
   "cell_type": "code",
   "execution_count": 16,
   "metadata": {},
   "outputs": [
    {
     "output_type": "stream",
     "name": "stdout",
     "text": [
      "Mutable default value are not allowed!\n"
     ]
    },
    {
     "output_type": "execute_result",
     "data": {
      "text/plain": [
       "'ClubMember(name: str, guests: list = <factory>)'"
      ]
     },
     "metadata": {},
     "execution_count": 16
    }
   ],
   "source": [
    "from dataclasses import dataclass, field\n",
    "try:\n",
    "    @dataclass\n",
    "    class ClubMember:\n",
    "        name: str\n",
    "        guests: list = []\n",
    "except ValueError:\n",
    "    print(\"Mutable default value are not allowed!\")\n",
    "    @dataclass\n",
    "    class ClubMember:\n",
    "        name: str\n",
    "        guests: list = field(default_factory=list)\n",
    "# Docstring\n",
    "ClubMember.__doc__ # `<factory>` is a short way of saying that some callable will produce the default value for `guests`"
   ]
  },
  {
   "source": [
    "The `default_factory` parameter lets you provide a function, class, or any other callable, which will be invoked with zero arguments to build a default value each time an instance of the data class is created. This way, each instance of `ClubMember` will have its own `list`—**instead of all instances sharing the same `list` from the class**, which is rarely what we want and is often a bug."
   ],
   "cell_type": "markdown",
   "metadata": {}
  },
  {
   "source": [
    "### Post-init processing\n",
    "The `__init__` method generated by `@dataclass` only takes the arguments passed and assigns them to the instance attributes that are instance fields. But you may need to do more than that to initialize the instance. When `__post_init__` method exists, `@dataclass` will add code to the generated `__init__` to call `__post_init__` as the last step."
   ],
   "cell_type": "markdown",
   "metadata": {}
  },
  {
   "cell_type": "code",
   "execution_count": 17,
   "metadata": {},
   "outputs": [
    {
     "output_type": "stream",
     "name": "stdout",
     "text": [
      "HackerClubMember(name='Anna Ravenscroft', guests=[], handle='AnnaRaven')\nHackerClubMember(name='Leo Rochael', guests=[], handle='Leo')\nhandle 'Leo' already exists.\n"
     ]
    },
    {
     "output_type": "execute_result",
     "data": {
      "text/plain": [
       "\"HackerClubMember(name: str, guests: list = <factory>, handle: str = '')\""
      ]
     },
     "metadata": {},
     "execution_count": 17
    }
   ],
   "source": [
    "from dataclasses import dataclass\n",
    "\n",
    "@dataclass\n",
    "class ClubMember:\n",
    "    name: str\n",
    "    guests: list = field(default_factory=list)\n",
    "\n",
    "@dataclass\n",
    "class HackerClubMember(ClubMember):\n",
    "    # variables defined before `__init__` can be seen as static variables when we call them with `class.var` instead of `instance.var`\n",
    "    all_handles = set() # a class attribute, an empty set\n",
    "    handle: str = ''\n",
    "\n",
    "    def __post_init__(self):\n",
    "        cls = self.__class__ # get the class of instance\n",
    "        if self.handle == '':\n",
    "            self.handle = self.name.split()[0]\n",
    "        if self.handle in cls.all_handles:\n",
    "            msg = f'handle {self.handle!r} already exists.'\n",
    "            raise ValueError(msg)\n",
    "        cls.all_handles.add(self.handle)\n",
    "\n",
    "anna = HackerClubMember('Anna Ravenscroft', handle='AnnaRaven')\n",
    "print(anna)\n",
    "leo = HackerClubMember('Leo Rochael')\n",
    "print(leo)\n",
    "try:\n",
    "    leo2 = HackerClubMember('Leo Davinci')\n",
    "except ValueError as e:\n",
    "    print(e)\n",
    "HackerClubMember.__doc__"
   ]
  },
  {
   "source": [
    "### Initialization variables that are not fields\n",
    "Sometimes you may need to pass arguments to `__init__` that are not instance fields. Such arguments are called *init-only variables*. **init-only variables must also be declared**. To declare an argument like that, `dataclasses` module provides the pseudo-type `InitVar`"
   ],
   "cell_type": "markdown",
   "metadata": {}
  },
  {
   "cell_type": "code",
   "execution_count": 18,
   "metadata": {},
   "outputs": [
    {
     "output_type": "stream",
     "name": "stdout",
     "text": [
      "__init__() got an unexpected keyword argument 'lst'\n"
     ]
    },
    {
     "output_type": "execute_result",
     "data": {
      "text/plain": [
       "1"
      ]
     },
     "metadata": {},
     "execution_count": 18
    }
   ],
   "source": [
    "from dataclasses import dataclass, InitVar\n",
    "try:\n",
    "    @dataclass\n",
    "    class C:\n",
    "        i: int\n",
    "        j: int = None\n",
    "        \n",
    "        def __post_init__(self, lst):\n",
    "            if self.j is None and lst is not None:\n",
    "                self.j = lst[0]\n",
    "    c = C(10,lst = [1])\n",
    "except TypeError as e:\n",
    "    print(e)\n",
    "    @dataclass\n",
    "    class C:\n",
    "        i: int\n",
    "        j: int = None\n",
    "        # `InitVar` will prevent `@dataclass` from treating `lst` as a regular field\n",
    "        lst: InitVar[list] = None \n",
    "        def __post_init__(self, lst):\n",
    "            if self.j is None and lst is not None:\n",
    "                self.j = lst[0]\n",
    "    c = C(10,lst = [1])\n",
    "c.j"
   ]
  },
  {
   "source": [
    "## `@dataclass` Example: Dublin Core Resource Record"
   ],
   "cell_type": "markdown",
   "metadata": {}
  },
  {
   "cell_type": "code",
   "execution_count": 19,
   "metadata": {},
   "outputs": [],
   "source": [
    "from dataclasses import dataclass, field\n",
    "from typing import Optional\n",
    "from enum import Enum, auto\n",
    "from datetime import date\n",
    "\n",
    "class ResourceType(Enum):\n",
    "    BOOK = auto()\n",
    "    EBOOK = auto()\n",
    "    VIDEO = auto()\n",
    "\n",
    "@dataclass\n",
    "class Resource:\n",
    "    identifier: str\n",
    "    title: str = '<untitled>'\n",
    "    # list[str] if python 3.9\n",
    "    creators: list = field(default_factory=list)\n",
    "    date: Optional[date] = None\n",
    "    type: ResourceType = ResourceType.BOOK\n",
    "    description: str = ''\n",
    "    language: str = ''\n",
    "    # list[str] if python 3.9\n",
    "    subjects: list = field(default_factory=list)"
   ]
  }
 ]
}