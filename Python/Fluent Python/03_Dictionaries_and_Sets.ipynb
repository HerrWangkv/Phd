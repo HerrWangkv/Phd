{
 "metadata": {
  "language_info": {
   "codemirror_mode": {
    "name": "ipython",
    "version": 3
   },
   "file_extension": ".py",
   "mimetype": "text/x-python",
   "name": "python",
   "nbconvert_exporter": "python",
   "pygments_lexer": "ipython3",
   "version": "3.8.5"
  },
  "orig_nbformat": 4,
  "kernelspec": {
   "name": "python3",
   "display_name": "Python 3.8.5 64-bit ('base': conda)"
  },
  "interpreter": {
   "hash": "a833c099db7b05f61158e7bfba6f13b412003cbf9af5e7abee035c4baebbd990"
  }
 },
 "nbformat": 4,
 "nbformat_minor": 2,
 "cells": [
  {
   "source": [
    "## Standard API of Mapping Types\n",
    "`dictionary` can be considered as a subclass of `collection.Mapping` and `collection.MutableMapping`"
   ],
   "cell_type": "markdown",
   "metadata": {}
  },
  {
   "cell_type": "code",
   "execution_count": 1,
   "metadata": {},
   "outputs": [
    {
     "output_type": "execute_result",
     "data": {
      "text/plain": [
       "(True, True)"
      ]
     },
     "metadata": {},
     "execution_count": 1
    }
   ],
   "source": [
    "from collections import abc\n",
    "\n",
    "my_dict = {}\n",
    "isinstance(my_dict, abc.Mapping), isinstance(my_dict, abc.MutableMapping)"
   ]
  },
  {
   "cell_type": "code",
   "execution_count": 2,
   "metadata": {},
   "outputs": [
    {
     "output_type": "execute_result",
     "data": {
      "text/plain": [
       "True"
      ]
     },
     "metadata": {},
     "execution_count": 2
    }
   ],
   "source": [
    "# Build dictionaries\n",
    "a = dict(one=1, two=2, three=3)\n",
    "b = {'three': 3, 'two': 2, 'one': 1}\n",
    "c = dict([('two', 2), ('one', 1), ('three', 3)])\n",
    "d = dict(zip(['one', 'two', 'three'], [1, 2, 3]))\n",
    "e = dict({'three': 3, 'one': 1, 'two': 2})\n",
    "a == b == c == d == e # All these dictionaries are considered equal even if the order of the keys is not the same"
   ]
  },
  {
   "cell_type": "code",
   "execution_count": 3,
   "metadata": {},
   "outputs": [
    {
     "output_type": "stream",
     "name": "stdout",
     "text": [
      "['one', 'two', 'three']\n{'two': 2, 'one': 1, 'three': 3}\n('three', 3)\n{'two': 2, 'one': 1}\n"
     ]
    }
   ],
   "source": [
    "print(list(a.keys()))\n",
    "print(c)\n",
    "print(c.popitem()) # removes and returns the last key-value pair added to the dict\n",
    "print(c)"
   ]
  },
  {
   "source": [
    "### Dict Comprehensions"
   ],
   "cell_type": "markdown",
   "metadata": {}
  },
  {
   "cell_type": "code",
   "execution_count": 4,
   "metadata": {},
   "outputs": [
    {
     "output_type": "execute_result",
     "data": {
      "text/plain": [
       "{880: 'Bangladesh',\n",
       " 55: 'Brazil',\n",
       " 86: 'China',\n",
       " 91: 'India',\n",
       " 62: 'Indonesia',\n",
       " 81: 'Japan',\n",
       " 234: 'Nigeria',\n",
       " 92: 'Pakistan',\n",
       " 7: 'Russia',\n",
       " 1: 'United States'}"
      ]
     },
     "metadata": {},
     "execution_count": 4
    }
   ],
   "source": [
    "dial_codes = [\n",
    "    (880, 'Bangladesh'),\n",
    "    (55,  'Brazil'),\n",
    "    (86,  'China'),\n",
    "    (91,  'India'),\n",
    "    (62,  'Indonesia'),\n",
    "    (81,  'Japan'),\n",
    "    (234, 'Nigeria'),\n",
    "    (92,  'Pakistan'),\n",
    "    (7,   'Russia'),\n",
    "    (1,   'United States'),\n",
    "]\n",
    "\n",
    "country_dial = {country: code for country, code in dial_codes}\n",
    "country_dial"
   ]
  },
  {
   "source": [
    "### Useful Mapping Methods\n",
    "1. `dict.update(m)`:\n",
    "    - First checks whether `m` has a keys method and, if it does, assumes it is a mapping. \n",
    "    - Otherwise, update() falls back to iterating over `m`, assuming its items are (key, value) pairs."
   ],
   "cell_type": "markdown",
   "metadata": {}
  },
  {
   "cell_type": "code",
   "execution_count": 5,
   "metadata": {},
   "outputs": [
    {
     "output_type": "stream",
     "name": "stdout",
     "text": [
      "{'one': 1, 'two': 2, 'three': 3, 'four': 4, 'five': 5}\n"
     ]
    }
   ],
   "source": [
    "a = dict(one=1, two=2, three=3)\n",
    "a.update({'four': 4, 'five':5}) # update a Mapping\n",
    "print(a)"
   ]
  },
  {
   "cell_type": "code",
   "execution_count": 6,
   "metadata": {},
   "outputs": [
    {
     "output_type": "stream",
     "name": "stdout",
     "text": [
      "{'one': 1, 'two': 2, 'three': 3, 'four': 5, 'five': 4}\n"
     ]
    }
   ],
   "source": [
    "a.update([('five', 4), ('four', 5)]) # iterate over `m`\n",
    "print(a)"
   ]
  },
  {
   "source": [
    "2. `dict.setdefault(key, default)` equivalent to \n",
    "    ```python\n",
    "    if key not in dict.keys():\n",
    "        dict[key] = default\n",
    "    ```\n"
   ],
   "cell_type": "markdown",
   "metadata": {}
  },
  {
   "cell_type": "code",
   "execution_count": 7,
   "metadata": {},
   "outputs": [
    {
     "output_type": "stream",
     "name": "stdout",
     "text": [
      "Python Intepreter don't know the type of b['two'], so not able to append\n{'one': [1, 2, 3, 4], 'two': [2]}\n"
     ]
    }
   ],
   "source": [
    "b = {'one': [1, 2, 3]}\n",
    "try :\n",
    "    b['two'].append(2)\n",
    "except KeyError:\n",
    "    print(\"Python Intepreter don't know the type of b['two'], so not able to append\")\n",
    "    b.setdefault('two', []).append(2)\n",
    "    b.setdefault('one', []).append(4) # don't change the existing value\n",
    "    print(b)"
   ]
  },
  {
   "source": [
    "## Mapping with Flexible Key Lookup\n",
    "Here are another two solutions to deal with missing keys:\n",
    "\n",
    "1. uses `dict = collections.defaultdict(default_factory)`:\n",
    "\n",
    " `dict[k]` (actually `dict.__getitem__(k)`) will call `default_factory` to create a default value"
   ],
   "cell_type": "markdown",
   "metadata": {}
  },
  {
   "source": [
    "import collections\n",
    "\n",
    "c = collections.defaultdict(list) # value is an empty list by default\n",
    "c['one'].append(1)\n",
    "c['two'] = 4\n",
    "c"
   ],
   "cell_type": "code",
   "metadata": {},
   "execution_count": 8,
   "outputs": [
    {
     "output_type": "execute_result",
     "data": {
      "text/plain": [
       "defaultdict(list, {'one': [1], 'two': 4})"
      ]
     },
     "metadata": {},
     "execution_count": 8
    }
   ]
  },
  {
   "source": [
    "2. subclass `dict` and use `__missing__` method"
   ],
   "cell_type": "markdown",
   "metadata": {}
  },
  {
   "cell_type": "code",
   "execution_count": 9,
   "metadata": {},
   "outputs": [
    {
     "output_type": "execute_result",
     "data": {
      "text/plain": [
       "(2, 0, False)"
      ]
     },
     "metadata": {},
     "execution_count": 9
    }
   ],
   "source": [
    "#class myDict(dict):\n",
    "# better to subclass `UserDict`, will talk about it later\n",
    "class myDict(collections.UserDict):\n",
    "    def __missing__(self, key):\n",
    "        return 0\n",
    "d = myDict([('one', 1), ('two', 2)])\n",
    "d['two'], d['three'], 'three' in d.keys()"
   ]
  },
  {
   "source": [
    "## Variations of `dict`\n",
    "- `collections.defaultdict` already covered\n",
    "- `collections.OrderedDict`: Maintains keys in insertion order, allowing iteration over items in a predictable order. The `popitem` method of an `OrderedDict` pops the last item by default, but if called as `my_odict.popitem(last=False)`, it pops the first item added. Now that the built-in dict also keeps the keys ordered since Python 3.6, the main reason to use OrderedDict is writing code that is backward-compatible with earlier Python versions and check the order between two dicts.\n"
   ],
   "cell_type": "markdown",
   "metadata": {}
  },
  {
   "cell_type": "code",
   "execution_count": 10,
   "metadata": {},
   "outputs": [
    {
     "output_type": "execute_result",
     "data": {
      "text/plain": [
       "(True, True, False)"
      ]
     },
     "metadata": {},
     "execution_count": 10
    }
   ],
   "source": [
    "odict1 = collections.OrderedDict([('One', 1), ('Two', 2)])\n",
    "odict2 = collections.OrderedDict([('Two', 2), ('One', 1)])\n",
    "d = {'Two' : 2, 'One' : 1}\n",
    "odict1 == d, odict2 == d, odict1 == odict2"
   ]
  },
  {
   "source": [
    "- `collections.ChainMap`: Holds a list of mappings that can be searched as one. The lookup is performed on each mapping in order, and succeeds if the key is found in any of them. This is useful to interpreters for languages with nested scopes, where each mapping represents a scope context."
   ],
   "cell_type": "markdown",
   "metadata": {}
  },
  {
   "cell_type": "code",
   "execution_count": 11,
   "metadata": {},
   "outputs": [
    {
     "output_type": "execute_result",
     "data": {
      "text/plain": [
       "1"
      ]
     },
     "metadata": {},
     "execution_count": 11
    }
   ],
   "source": [
    "english = {'One' : 1, 'Two' : 2}\n",
    "german = {'Eins' : 1, 'Zwei' : 2}\n",
    "num = collections.ChainMap(english, german)\n",
    "num['Eins']"
   ]
  },
  {
   "source": [
    "- `collections.Counter`: A mapping that holds an integer count for each key. Updating an existing key adds to its count. "
   ],
   "cell_type": "markdown",
   "metadata": {}
  },
  {
   "cell_type": "code",
   "execution_count": 12,
   "metadata": {},
   "outputs": [
    {
     "output_type": "stream",
     "name": "stdout",
     "text": [
      "Counter({'b': 12, 'a': 11})\nCounter({'a': 12, 'b': 12, 'd': 3, 'c': 3})\n"
     ]
    },
    {
     "output_type": "execute_result",
     "data": {
      "text/plain": [
       "[('a', 12), ('b', 12), ('d', 3)]"
      ]
     },
     "metadata": {},
     "execution_count": 12
    }
   ],
   "source": [
    "ct = collections.Counter('abababababbaabbabababab')\n",
    "print(ct)\n",
    "ct.update('adccdcd')\n",
    "print(ct)\n",
    "ct.most_common(3)"
   ]
  },
  {
   "source": [
    "## Building custom mappings\n",
    "### Why is subclass `collections.UserDict`?\n",
    "- `dict` has some implementation shortcuts that end up forcing us to override methods that we can just inherit from UserDict with no problems.\n",
    "- object of `UserDict` has an internal `dict` instance, called `data`"
   ],
   "cell_type": "markdown",
   "metadata": {}
  },
  {
   "cell_type": "code",
   "execution_count": 13,
   "metadata": {},
   "outputs": [
    {
     "output_type": "execute_result",
     "data": {
      "text/plain": [
       "(True, False)"
      ]
     },
     "metadata": {},
     "execution_count": 13
    }
   ],
   "source": [
    "import collections\n",
    "\n",
    "class StrKeyDict(collections.UserDict):\n",
    "    # deal with the keys whose str version is already saved in dict\n",
    "    def __missing__(self, key):\n",
    "        if isinstance(key, str):\n",
    "            raise KeyError(key)\n",
    "        return self[str(key)]\n",
    "\n",
    "    def __contains__(self, key):\n",
    "        return str(key) in self.data # dict instance inside the object\n",
    "    \n",
    "    def __setitem__(self, key, item):\n",
    "        self.data[str(key)] = item\n",
    "\n",
    "d = StrKeyDict()\n",
    "isinstance(d, collections.abc.Mapping), isinstance(dict, collections.abc.MutableMapping)"
   ]
  },
  {
   "source": [
    "`UserDict` subclasses `abc.MutableMapping` and `abc.MutableMapping`. There are still some methods we need to notice:\n",
    "- `MutableMapping.update`: load instances from other mappings, call `__setitem__`\n",
    "- `Mapping.get`: can be directly inherited"
   ],
   "cell_type": "markdown",
   "metadata": {}
  },
  {
   "source": [
    "## Immutable Mappings\n",
    "The mapping types provided by the standard library are all mutable, but you may need to guarantee that a user cannot change a mapping by mistake. \n",
    "\n",
    "- `types.MappingProxyType` returns a read-only `mappingproxy` instance given a mapping\n",
    "- `mappingproxy` is also dynamic, any changes to the original will be reflected in the respective `mappingproxy` object"
   ],
   "cell_type": "markdown",
   "metadata": {}
  },
  {
   "source": [
    "from types import MappingProxyType\n",
    "d = {1:'A'}\n",
    "d_proxy = MappingProxyType(d)\n",
    "try:\n",
    "    d_proxy[2] = 'x' # `mappingproxy` object does not support item assignment\n",
    "except TypeError:\n",
    "    print(d_proxy)\n",
    "d[2] = 'B'\n",
    "print(d_proxy) # dynamically reflected"
   ],
   "cell_type": "code",
   "metadata": {},
   "execution_count": 14,
   "outputs": [
    {
     "output_type": "stream",
     "name": "stdout",
     "text": [
      "{1: 'A'}\n{1: 'A', 2: 'B'}\n"
     ]
    }
   ]
  },
  {
   "source": [
    "## Dictionary Views\n",
    "The `dict` instance methods `.keys()`, `.values()`, and `.items()` return instances of classes called `dict_keys`, `dict_values`, and `dict_items`, respectively.\n",
    "\n",
    "They are all dynamic"
   ],
   "cell_type": "markdown",
   "metadata": {}
  },
  {
   "cell_type": "code",
   "execution_count": 15,
   "metadata": {},
   "outputs": [
    {
     "output_type": "stream",
     "name": "stdout",
     "text": [
      "dict_values([10, 20, 30])\n3\n[10, 20, 30]\n[30, 20, 10]\n`dict_values` object is not subscriptable\n"
     ]
    }
   ],
   "source": [
    "d = dict(a=10, b=20, c=30)\n",
    "values = d.values()\n",
    "print(values)\n",
    "print(len(values))\n",
    "print(list(values))\n",
    "print(list(reversed(values)))\n",
    "try:\n",
    "    values[0]\n",
    "except TypeError:\n",
    "    print('`dict_values` object is not subscriptable')"
   ]
  },
  {
   "cell_type": "code",
   "execution_count": 16,
   "metadata": {},
   "outputs": [
    {
     "output_type": "execute_result",
     "data": {
      "text/plain": [
       "dict_values([10, 20, 30, 260])"
      ]
     },
     "metadata": {},
     "execution_count": 16
    }
   ],
   "source": [
    "d['z'] = 260\n",
    "values # dynamic"
   ]
  },
  {
   "source": [
    "## Set Theory\n",
    "- A `set` is a collection of unique objects. A basic use case is removing duplication\n",
    "- `frozenset` is its **immutable** sibling\n",
    "- Set elements must be hashable. The `set` type is not hashable, so you can’t build a `set` with nested `set` instances. But `frozenset` is hashable, so you can have `frozenset` elements inside a `set`."
   ],
   "cell_type": "markdown",
   "metadata": {}
  },
  {
   "cell_type": "code",
   "execution_count": 17,
   "metadata": {},
   "outputs": [
    {
     "output_type": "execute_result",
     "data": {
      "text/plain": [
       "{'a', 'b', 'c'}"
      ]
     },
     "metadata": {},
     "execution_count": 17
    }
   ],
   "source": [
    "l = ['a', 'a', 'b', 'b', 'c']\n",
    "set(l) # do not preserve the order"
   ]
  },
  {
   "source": [
    "### Intersection\n",
    "For two sets `a` and `b`:\n",
    "- `a | b` returns the union\n",
    "- `a & b` returns the intersection\n",
    "- `a - b` returns the difference\n",
    "- `a ^ b` returns the symmetric difference, equivalent to `(a - b) | (b - a)`"
   ],
   "cell_type": "markdown",
   "metadata": {}
  },
  {
   "cell_type": "code",
   "execution_count": 18,
   "metadata": {},
   "outputs": [
    {
     "output_type": "execute_result",
     "data": {
      "text/plain": [
       "({'a', 'b', 'c'}, {'a'}, {'b'}, {'b', 'c'})"
      ]
     },
     "metadata": {},
     "execution_count": 18
    }
   ],
   "source": [
    "# Only works for sets\n",
    "s1 = {'a', 'b'}\n",
    "s2 = {'a', 'c'}\n",
    "s1 | s2, s1 & s2, s1 - s2, s1 ^ s2"
   ]
  },
  {
   "cell_type": "code",
   "execution_count": 19,
   "metadata": {},
   "outputs": [
    {
     "output_type": "stream",
     "name": "stdout",
     "text": [
      "{'a'}\n{'a'}\n"
     ]
    }
   ],
   "source": [
    "# Works for all iterable types\n",
    "l1 = ['a', 'b']\n",
    "l2 = ['a', 'c']\n",
    "\n",
    "print(set(l1) & set(l2))\n",
    "print(set(l1).intersection(l2)) # Usually only transform the smaller one to a set"
   ]
  },
  {
   "source": [
    "### Set Literals\n",
    "There’s no literal notation for the empty `set`, so we must remember to write `set()`."
   ],
   "cell_type": "markdown",
   "metadata": {}
  },
  {
   "cell_type": "code",
   "execution_count": 20,
   "metadata": {},
   "outputs": [
    {
     "output_type": "stream",
     "name": "stdout",
     "text": [
      "<class 'set'>\n<class 'dict'>\n<class 'set'>\n"
     ]
    }
   ],
   "source": [
    "s = {1}\n",
    "print(type(s))\n",
    "d = {}\n",
    "print(type(d))\n",
    "es = set()\n",
    "print(type(es))"
   ]
  },
  {
   "source": [
    "There is no special syntax to represent `frozenset` literals—they must be created by calling the constructor."
   ],
   "cell_type": "markdown",
   "metadata": {}
  },
  {
   "cell_type": "code",
   "execution_count": 21,
   "metadata": {},
   "outputs": [
    {
     "output_type": "execute_result",
     "data": {
      "text/plain": [
       "frozenset({0, 1, 2, 3, 4, 5, 6, 7, 8, 9})"
      ]
     },
     "metadata": {},
     "execution_count": 21
    }
   ],
   "source": [
    "frozenset(range(10))"
   ]
  },
  {
   "source": [
    "## Set Comprehensions"
   ],
   "cell_type": "markdown",
   "metadata": {}
  },
  {
   "cell_type": "code",
   "execution_count": 22,
   "metadata": {},
   "outputs": [
    {
     "output_type": "execute_result",
     "data": {
      "text/plain": [
       "{20195, 20889, 21435, 24555, 30721}"
      ]
     },
     "metadata": {},
     "execution_count": 22
    }
   ],
   "source": [
    "{ord(i) for i in \"WKW快去写代码\" if ord(i) > 128}"
   ]
  },
  {
   "source": [
    "## Internals of sets and dicts\n",
    "The lookup time for keys in dicts or sets is negligible, regardless of the size\n",
    "### Set hash tables under the hood\n",
    "The core data structure of a Python `set` is a hash table with at least 8 rows. Traditionally, the rows in hash table are called buckets"
   ],
   "cell_type": "markdown",
   "metadata": {}
  },
  {
   "source": [
    "### Hashes and equality\n",
    "- If two objects compare equal, their hash codes must also be equal, even if they are of different types\n",
    "- There are 2^64 possible hash codes, but objects that are different may have the same hash code"
   ],
   "cell_type": "markdown",
   "metadata": {}
  },
  {
   "cell_type": "code",
   "execution_count": 23,
   "metadata": {},
   "outputs": [
    {
     "output_type": "execute_result",
     "data": {
      "text/plain": [
       "True"
      ]
     },
     "metadata": {},
     "execution_count": 23
    }
   ],
   "source": [
    "hash(1) == hash(1.0)"
   ]
  },
  {
   "source": [
    "### The hash table algorithm\n",
    "How does `workdays = {'Mon', 'Tue', 'Wed', 'Thu', 'Fri'}` work? As follows\n",
    "\n",
    "![hashSet](./Images/hashSet.png)\n",
    "\n",
    "0. Initialize hash table\n",
    "\n",
    "    The hash table for a `set` starts with **8 empty buckets**. As elements are added, Python makes sure **at least 1/3 of the buckets are empty**—doubling the size of the hash table when more space is needed. The hash code field of each bucket is initialized with -1, which means “no hash code”"
   ],
   "cell_type": "markdown",
   "metadata": {}
  },
  {
   "cell_type": "code",
   "execution_count": 24,
   "metadata": {},
   "outputs": [
    {
     "output_type": "execute_result",
     "data": {
      "text/plain": [
       "[(-1, 'null'),\n",
       " (-1, 'null'),\n",
       " (-1, 'null'),\n",
       " (-1, 'null'),\n",
       " (-1, 'null'),\n",
       " (-1, 'null'),\n",
       " (-1, 'null'),\n",
       " (-1, 'null')]"
      ]
     },
     "metadata": {},
     "execution_count": 24
    }
   ],
   "source": [
    "hash_table = [(-1,'null') for i in range(8)]\n",
    "hash_table"
   ]
  },
  {
   "source": [
    "1. Compute the hash code for the first element and put the element in the empty bucket\n",
    "\n",
    "    Given the literal `{'Mon', 'Tue', 'Wed', 'Thu', 'Fri'}`, Python gets the hash code for the first element, `'Mon'`. Use the remainder of its hash code divided by the number of buckets (8 here) as the index"
   ],
   "cell_type": "markdown",
   "metadata": {}
  },
  {
   "cell_type": "code",
   "execution_count": 25,
   "metadata": {},
   "outputs": [
    {
     "output_type": "execute_result",
     "data": {
      "text/plain": [
       "[(-1, 'null'),\n",
       " (-1, 'null'),\n",
       " (-1, 'null'),\n",
       " (-1, 'null'),\n",
       " (-1913363215878030988, 'Mon'),\n",
       " (-1, 'null'),\n",
       " (-1, 'null'),\n",
       " (-1, 'null')]"
      ]
     },
     "metadata": {},
     "execution_count": 25
    }
   ],
   "source": [
    "code = hash('Mon') \n",
    "i = code % 8\n",
    "hash_table[i] = (code, 'Mon')\n",
    "hash_table"
   ]
  },
  {
   "source": [
    "2. For remaining itens:\n",
    "\n",
    "    if the remainder is already taken (index collision), and the hash code there is different from the new item, then Python probe the next bucket until we find an empty bucket. "
   ],
   "cell_type": "markdown",
   "metadata": {}
  },
  {
   "cell_type": "code",
   "execution_count": 26,
   "metadata": {},
   "outputs": [
    {
     "output_type": "stream",
     "name": "stdout",
     "text": [
      "Success\nSuccess\nSuccess\nSuccess\nSuccess\n"
     ]
    },
    {
     "output_type": "execute_result",
     "data": {
      "text/plain": [
       "[(4328699346170196888, 'Tue'),\n",
       " (-8761516211810743815, 'Wed'),\n",
       " (7169429547465764570, 'Fri'),\n",
       " (6965629236275275355, 'Thu'),\n",
       " (-1913363215878030988, 'Mon'),\n",
       " (-1, 'null'),\n",
       " (-1, 'null'),\n",
       " (-1, 'null')]"
      ]
     },
     "metadata": {},
     "execution_count": 26
    }
   ],
   "source": [
    "def push_set(table, lst):\n",
    "    for item in lst:\n",
    "        code = hash(item)\n",
    "        index = code % len(table)\n",
    "        while (table[index % len(table)][0] != -1):\n",
    "            index += 1\n",
    "            # if there is no empty bucket, extend not considered here\n",
    "            if (index > 2 * len(table) - 2):\n",
    "                print(\"Failed\")\n",
    "                return table\n",
    "        index = index % len(table)\n",
    "        table[index] = (code, item)\n",
    "        print(\"Success\")\n",
    "    return table\n",
    "\n",
    "l = ['Mon', 'Tue', 'Wed', 'Thu', 'Fri']\n",
    "hash_table = [(-1,'null') for i in range(8)]\n",
    "hash_table = push_set(hash_table, l)\n",
    "hash_table"
   ]
  },
  {
   "source": [
    "### Hash table usage in `dict`\n",
    "`swimmers = {'Mon': 14, 'Tue': 12, 'Wed': 14, 'Thu': 11}`\n",
    "\n",
    "#### Older version \n",
    "![hashDictOld](./Images/hashDictOld.png)"
   ],
   "cell_type": "markdown",
   "metadata": {}
  },
  {
   "cell_type": "code",
   "execution_count": 27,
   "metadata": {},
   "outputs": [
    {
     "output_type": "stream",
     "name": "stdout",
     "text": [
      "Success\nSuccess\nSuccess\nSuccess\n"
     ]
    },
    {
     "output_type": "execute_result",
     "data": {
      "text/plain": [
       "[(4328699346170196888, ('Tue', 12)),\n",
       " (-8761516211810743815, ('Wed', 14)),\n",
       " (-1, 'null'),\n",
       " (6965629236275275355, ('Thu', 11)),\n",
       " (-1913363215878030988, ('Mon', 14)),\n",
       " (-1, 'null'),\n",
       " (-1, 'null'),\n",
       " (-1, 'null')]"
      ]
     },
     "metadata": {},
     "execution_count": 27
    }
   ],
   "source": [
    "def push_dict_old(table, lst):\n",
    "    for item in lst:\n",
    "        code = hash(item[0])\n",
    "        index = code % len(table)\n",
    "        while (table[index % len(table)][0] != -1):\n",
    "            index += 1\n",
    "            # if there is no empty bucket, extend not considered here\n",
    "            if (index > 2 * len(table) - 2):\n",
    "                print(\"Failed\")\n",
    "                return table\n",
    "        index = index % len(table)\n",
    "        table[index] = (code, item)\n",
    "        print(\"Success\")\n",
    "    return table\n",
    "\n",
    "hash_table = [(-1,'null') for i in range(8)]\n",
    "l = [('Mon', 14), ('Tue', 12), ('Wed', 14), ('Thu', 11)]\n",
    "push_dict_old(hash_table, l)\n",
    "hash_table"
   ]
  },
  {
   "source": [
    "#### Newer version: compact dict, **Preserves key insertion order**\n",
    "![hashDictNew](./Images/hashDictNew.png)\n",
    "Two tables in total, one tabel `entries` for all the key-value pairs **in the insertion order**, another table `indices` for the indices\n",
    "\n",
    "0. set up `indices`\n",
    "    \n",
    "    The indices table is initially set up as an array of signed bytes, with 8 buckets, each initialized with -1 to signal “empty bucket”. "
   ],
   "cell_type": "markdown",
   "metadata": {}
  },
  {
   "cell_type": "code",
   "execution_count": 28,
   "metadata": {},
   "outputs": [
    {
     "output_type": "execute_result",
     "data": {
      "text/plain": [
       "[-1, -1, -1, -1, -1, -1, -1, -1]"
      ]
     },
     "metadata": {},
     "execution_count": 28
    }
   ],
   "source": [
    "indices = [-1 for i in range(8)]\n",
    "indices"
   ]
  },
  {
   "source": [
    "1. compute the hash code for the first key, add the remainder to `indices` and put the key-value pair in `entries` "
   ],
   "cell_type": "markdown",
   "metadata": {}
  },
  {
   "cell_type": "code",
   "execution_count": 29,
   "metadata": {},
   "outputs": [
    {
     "output_type": "execute_result",
     "data": {
      "text/plain": [
       "([-1, -1, -1, -1, 0, -1, -1, -1], [[-1913363215878030988, ('Mon', 14)]])"
      ]
     },
     "metadata": {},
     "execution_count": 29
    }
   ],
   "source": [
    "l = [('Mon', 14), ('Tue', 12), ('Wed', 14), ('Thu', 11)]\n",
    "code = hash(l[0][0])\n",
    "index = code % len(indices)\n",
    "indices[index] = 0 # 0 means the first key\n",
    "entries = []\n",
    "entries.append([code, l[0]])\n",
    "indices, entries"
   ]
  },
  {
   "source": [
    "2. For remaining items:\n",
    "    - No collision: put the key-value pair in `entries` and update the `indices`\n",
    "    - collision: calculate `index`(remainder), if `entries[indices[index]][0] != code`, `index += 1`\n",
    "    "
   ],
   "cell_type": "markdown",
   "metadata": {}
  },
  {
   "cell_type": "code",
   "execution_count": 30,
   "metadata": {},
   "outputs": [
    {
     "output_type": "stream",
     "name": "stdout",
     "text": [
      "Success\nSuccess\nSuccess\nSuccess\n"
     ]
    },
    {
     "output_type": "execute_result",
     "data": {
      "text/plain": [
       "([1, 2, -1, 3, 0, -1, -1, -1],\n",
       " [[-1913363215878030988, ('Mon', 14)],\n",
       "  [4328699346170196888, ('Tue', 12)],\n",
       "  [-8761516211810743815, ('Wed', 14)],\n",
       "  [6965629236275275355, ('Thu', 11)]])"
      ]
     },
     "metadata": {},
     "execution_count": 30
    }
   ],
   "source": [
    "def push_dict_new(indices, entries, lst):\n",
    "    for item in lst:\n",
    "        code = hash(item[0])\n",
    "        index = code % len(indices)\n",
    "        while(indices[index%len(indices)] != -1):\n",
    "            index += 1\n",
    "            # if there is no empty bucket, extend not considered here\n",
    "            if (index > 2 * len(indices) - 2):\n",
    "                print(\"Failed\")\n",
    "                return indices, entries\n",
    "        index = index % len(indices)\n",
    "        indices[index] = len(entries)\n",
    "        entries.append([code, item])\n",
    "        print(\"Success\")\n",
    "    return indices, entries\n",
    "\n",
    "l = [('Mon', 14), ('Tue', 12), ('Wed', 14), ('Thu', 11)]\n",
    "indices = [-1 for i in range(8)]\n",
    "entries = []\n",
    "indices, entries = push_dict_new(indices, entries, l)\n",
    "indices, entries"
   ]
  }
 ]
}