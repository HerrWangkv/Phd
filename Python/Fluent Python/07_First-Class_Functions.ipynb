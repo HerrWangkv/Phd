{
 "metadata": {
  "language_info": {
   "codemirror_mode": {
    "name": "ipython",
    "version": 3
   },
   "file_extension": ".py",
   "mimetype": "text/x-python",
   "name": "python",
   "nbconvert_exporter": "python",
   "pygments_lexer": "ipython3",
   "version": "3.8.5"
  },
  "orig_nbformat": 4,
  "kernelspec": {
   "name": "python3",
   "display_name": "Python 3.8.5 64-bit ('base': conda)"
  },
  "interpreter": {
   "hash": "a833c099db7b05f61158e7bfba6f13b412003cbf9af5e7abee035c4baebbd990"
  }
 },
 "nbformat": 4,
 "nbformat_minor": 2,
 "cells": [
  {
   "source": [
    "## Treating a Function like an Object\n"
   ],
   "cell_type": "markdown",
   "metadata": {}
  },
  {
   "cell_type": "code",
   "execution_count": 1,
   "metadata": {},
   "outputs": [
    {
     "output_type": "execute_result",
     "data": {
      "text/plain": [
       "('returns n!', function)"
      ]
     },
     "metadata": {},
     "execution_count": 1
    }
   ],
   "source": [
    "def factorial(n):\n",
    "    '''returns n!'''# __doc__\n",
    "    return 1 if n < 2 else n * factorial(n-1)\n",
    "\n",
    "factorial.__doc__, type(factorial)"
   ]
  },
  {
   "cell_type": "code",
   "execution_count": 2,
   "metadata": {},
   "outputs": [
    {
     "output_type": "execute_result",
     "data": {
      "text/plain": [
       "[1, 1, 2, 6, 24, 120, 720, 5040, 40320, 362880, 3628800]"
      ]
     },
     "metadata": {},
     "execution_count": 2
    }
   ],
   "source": [
    "fact = factorial # Use function through a different name\n",
    "list(map(fact, range(11))) # pass function as argument"
   ]
  },
  {
   "source": [
    "## Higher-Order Functions\n",
    "A function that takes a function as argument or returns a function as the result is a higher-order function. e.g. `map` and `sorted`"
   ],
   "cell_type": "markdown",
   "metadata": {}
  },
  {
   "cell_type": "code",
   "execution_count": 3,
   "metadata": {},
   "outputs": [
    {
     "output_type": "execute_result",
     "data": {
      "text/plain": [
       "['banana', 'apple', 'fig', 'raspberry', 'strawberry', 'cherry']"
      ]
     },
     "metadata": {},
     "execution_count": 3
    }
   ],
   "source": [
    "def reverse(word):\n",
    "    return word[::-1]\n",
    "\n",
    "fruits = ['strawberry', 'fig', 'apple', 'cherry', 'raspberry', 'banana']\n",
    "\n",
    "sorted(fruits, key=reverse)"
   ]
  },
  {
   "source": [
    "### Modern replacements for old high-order functions\n",
    "A listcomp or a genexp does the job of `map` and `filter` combined, but is more readable. \n",
    "\n",
    "`map` and `filter` return generators like [genexps](./02_An_Array_of_Sequences.ipynb)"
   ],
   "cell_type": "markdown",
   "metadata": {}
  },
  {
   "cell_type": "code",
   "execution_count": 4,
   "metadata": {},
   "outputs": [
    {
     "output_type": "stream",
     "name": "stdout",
     "text": [
      "[1, 1, 2, 6, 24, 120]\n[1, 1, 2, 6, 24, 120]\n"
     ]
    }
   ],
   "source": [
    "print(list(map(fact, range(6))))\n",
    "print([fact(n) for n in range(6)])"
   ]
  },
  {
   "cell_type": "code",
   "execution_count": 5,
   "metadata": {},
   "outputs": [
    {
     "output_type": "stream",
     "name": "stdout",
     "text": [
      "[1, 6, 120]\n[1, 6, 120]\n"
     ]
    }
   ],
   "source": [
    "print(list(map(factorial, filter(lambda n: n % 2, range(6)))))\n",
    "print([factorial(n) for n in range(6) if n % 2])"
   ]
  },
  {
   "source": [
    "## Anonymous Functions\n",
    "The `lambda` keyword creates an anonymous function within a Python expression. The best use of anonymous functions is in the context of an argument list for a higher-order function."
   ],
   "cell_type": "markdown",
   "metadata": {}
  },
  {
   "cell_type": "code",
   "execution_count": 6,
   "metadata": {},
   "outputs": [
    {
     "output_type": "execute_result",
     "data": {
      "text/plain": [
       "['banana', 'apple', 'fig', 'raspberry', 'strawberry', 'cherry']"
      ]
     },
     "metadata": {},
     "execution_count": 6
    }
   ],
   "source": [
    "fruits = ['strawberry', 'fig', 'apple', 'cherry', 'raspberry', 'banana']\n",
    "\n",
    "sorted(fruits, key=lambda word: word[::-1])"
   ]
  },
  {
   "source": [
    "## The Nine Flavors of Callable Objects\n",
    "\n",
    "To determine whether an object is callable, use the `callable()` built-in function. \n",
    "\n",
    "Nine callable types:\n",
    "\n",
    "1. **User-defined functions** created with `def` statements or `lambda` expressions.\n",
    "2. **Built-in functions**, like `len` or `time.strftime`\n",
    "3. **Built-in methods**, like `dict.get`\n",
    "4. **Methods**. Functions defined in the body of a class.\n",
    "5. **Classes**. When invoked, a class runs its `__new__` method to create an instance, then `__init__` to initialize it, and finally the instance is returned to the caller\n",
    "6. **Class instances**. If a class defines a `__call__` method, then its instances may be invoked as functions\n",
    "7. **Generator functions**. Functions or methods that use the `yield` keyword in their body. When called, they return a generator object.\n",
    "8. **Native coroutine functions**. Functions or methods defined with `async def`\n",
    "9. **Asynchronous generator functions**. Functions or methods defined with async def that have yield in their body."
   ],
   "cell_type": "markdown",
   "metadata": {}
  },
  {
   "cell_type": "code",
   "execution_count": 7,
   "metadata": {},
   "outputs": [
    {
     "output_type": "execute_result",
     "data": {
      "text/plain": [
       "[True, True, False]"
      ]
     },
     "metadata": {},
     "execution_count": 7
    }
   ],
   "source": [
    "[callable(obj) for obj in (abs, str, 13)]"
   ]
  },
  {
   "source": [
    "### User-Defined Callable Types\n"
   ],
   "cell_type": "markdown",
   "metadata": {}
  },
  {
   "cell_type": "code",
   "execution_count": 8,
   "metadata": {},
   "outputs": [
    {
     "output_type": "execute_result",
     "data": {
      "text/plain": [
       "(25, 7)"
      ]
     },
     "metadata": {},
     "execution_count": 8
    }
   ],
   "source": [
    "import random\n",
    "\n",
    "class BingoCage:\n",
    "\n",
    "    def __init__(self, items):\n",
    "        self._items = list(items)  \n",
    "        random.shuffle(self._items)\n",
    "\n",
    "    def pick(self): \n",
    "        try:\n",
    "            return self._items.pop()\n",
    "        except IndexError:\n",
    "            raise LookupError('pick from empty BingoCage')  \n",
    "\n",
    "    def __call__(self): \n",
    "        return self.pick()\n",
    "\n",
    "bingo = BingoCage(range(30))\n",
    "bingo(), bingo() # implictly call `bingo.pick()`"
   ]
  },
  {
   "source": [
    "### Function Introspection\n",
    "See what the `dir` function reveals about our `factorial`"
   ],
   "cell_type": "markdown",
   "metadata": {}
  },
  {
   "cell_type": "code",
   "execution_count": 9,
   "metadata": {},
   "outputs": [
    {
     "output_type": "execute_result",
     "data": {
      "text/plain": [
       "['__annotations__',\n",
       " '__call__',\n",
       " '__class__',\n",
       " '__closure__',\n",
       " '__code__',\n",
       " '__defaults__',\n",
       " '__delattr__',\n",
       " '__dict__',\n",
       " '__dir__',\n",
       " '__doc__',\n",
       " '__eq__',\n",
       " '__format__',\n",
       " '__ge__',\n",
       " '__get__',\n",
       " '__getattribute__',\n",
       " '__globals__',\n",
       " '__gt__',\n",
       " '__hash__',\n",
       " '__init__',\n",
       " '__init_subclass__',\n",
       " '__kwdefaults__',\n",
       " '__le__',\n",
       " '__lt__',\n",
       " '__module__',\n",
       " '__name__',\n",
       " '__ne__',\n",
       " '__new__',\n",
       " '__qualname__',\n",
       " '__reduce__',\n",
       " '__reduce_ex__',\n",
       " '__repr__',\n",
       " '__setattr__',\n",
       " '__sizeof__',\n",
       " '__str__',\n",
       " '__subclasshook__']"
      ]
     },
     "metadata": {},
     "execution_count": 9
    }
   ],
   "source": [
    "dir(factorial)"
   ]
  },
  {
   "source": [
    "## From Positional to Keyword-Only Parameters\n",
    "Keyword-Only Parameters can only be given as a keyword argument—it will **never** capture unnamed positional arguments. To specify keyword-only arguments when defining a function, name them **after** the argument prefixed with `*`"
   ],
   "cell_type": "markdown",
   "metadata": {}
  },
  {
   "cell_type": "code",
   "execution_count": 10,
   "metadata": {},
   "outputs": [
    {
     "output_type": "stream",
     "name": "stdout",
     "text": [
      "1 4\n1 2\n"
     ]
    }
   ],
   "source": [
    "def f(a, *args, b=4):\n",
    "    print(a, b)\n",
    "\n",
    "f(1, 2, 3)\n",
    "f(1, b=2)"
   ]
  },
  {
   "source": [
    "Positional-only parameters can **only** be called with positional parameters, \n",
    "\n",
    "New in Python 3.8: To define a function requiring positional-only parameters, use `/` in the parameter list.\n",
    "\n",
    "All arguments to the left of the `/` are positional-only. After the `/`, you may specify other arguments, which work as usual."
   ],
   "cell_type": "markdown",
   "metadata": {}
  },
  {
   "cell_type": "code",
   "execution_count": 11,
   "metadata": {},
   "outputs": [
    {
     "output_type": "stream",
     "name": "stdout",
     "text": [
      "divmod() got some positional-only arguments passed as keyword arguments: 'a, b'\n1 2\n"
     ]
    }
   ],
   "source": [
    "def divmod(a, b, /):\n",
    "    print(a, b)\n",
    "\n",
    "x, y = 1, 2\n",
    "try:\n",
    "    divmod(a=x, b=y)\n",
    "except TypeError as e:\n",
    "    print(e)\n",
    "    divmod(x, y)"
   ]
  },
  {
   "source": [
    "Within a function object, the `__defaults__` attribute holds a tuple with the default values of positional and keyword arguments. The defaults for keyword-only arguments appear in `__kwdefaults__`. The names of the arguments, however, are found within the `__code__` attribute"
   ],
   "cell_type": "markdown",
   "metadata": {}
  },
  {
   "cell_type": "code",
   "execution_count": 12,
   "metadata": {},
   "outputs": [],
   "source": [
    "def clip(text, max_len=80):\n",
    "    \"\"\"Return text clipped at the last space before or after max_len\n",
    "    \"\"\"\n",
    "    end = None\n",
    "    if len(text) > max_len:\n",
    "        space_before = text.rfind(' ', 0, max_len)\n",
    "        if space_before >= 0:\n",
    "            end = space_before\n",
    "        else:\n",
    "            space_after = text.rfind(' ', max_len)\n",
    "            if space_after >= 0:\n",
    "                end = space_after\n",
    "    if end is None:  # no spaces were found\n",
    "        return text.rstrip()\n",
    "    return text[:end].rstrip()"
   ]
  },
  {
   "cell_type": "code",
   "execution_count": 13,
   "metadata": {},
   "outputs": [
    {
     "output_type": "stream",
     "name": "stdout",
     "text": [
      "(80,)\n('text', 'max_len', 'end', 'space_before', 'space_after')\n2\n"
     ]
    }
   ],
   "source": [
    "print(clip.__defaults__) # need to scan fron last to first to tell which attribute this default value belongs to\n",
    "print(clip.__code__.co_varnames) # also includes the names of the local variables created in the body of the function, arguments always at first\n",
    "print(clip.__code__.co_argcount) # number of arguments, does not include any variable arguments prefixed with * or **"
   ]
  },
  {
   "source": [
    "In the example, we have two (according to `.__code__.co_argcount`) arguments, `text` and `max_len` (according to `.__code__.co_varnames`), and one default, 80 (according to `.__defaults__`), so it must belong to the last argument, `max_len`. This is awkward.\n",
    "\n",
    "Fortunately, there is a better way: the `inspect` module."
   ],
   "cell_type": "markdown",
   "metadata": {}
  },
  {
   "cell_type": "code",
   "execution_count": 14,
   "metadata": {},
   "outputs": [
    {
     "output_type": "stream",
     "name": "stdout",
     "text": [
      "POSITIONAL_OR_KEYWORD : text = <class 'inspect._empty'>\nPOSITIONAL_OR_KEYWORD : max_len = 80\n"
     ]
    }
   ],
   "source": [
    "from inspect import signature\n",
    "\n",
    "sig = signature(clip)\n",
    "for name, param in sig.parameters.items():\n",
    "    print(param.kind, ':', name, '=', param.default)"
   ]
  }
 ]
}