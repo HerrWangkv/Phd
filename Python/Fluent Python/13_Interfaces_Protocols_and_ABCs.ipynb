{
 "metadata": {
  "language_info": {
   "codemirror_mode": {
    "name": "ipython",
    "version": 3
   },
   "file_extension": ".py",
   "mimetype": "text/x-python",
   "name": "python",
   "nbconvert_exporter": "python",
   "pygments_lexer": "ipython3",
   "version": "3.9.5"
  },
  "orig_nbformat": 4,
  "kernelspec": {
   "name": "python3",
   "display_name": "Python 3.9.5 64-bit ('fluent': conda)"
  },
  "interpreter": {
   "hash": "b49d97cca46654f0638efecf31cc68aac48bbca1dbf9da3c97b7689e9a9e47c8"
  }
 },
 "nbformat": 4,
 "nbformat_minor": 2,
 "cells": [
  {
   "source": [
    "## The Typing Map\n",
    "![typingMap](./Images/typingMap.png)"
   ],
   "cell_type": "markdown",
   "metadata": {}
  },
  {
   "source": [
    "## Two kinds of protocols\n",
    "An object protocol specifies methods which an object must provide to fulfill a role. \n",
    "- dynamic protocol: Dynamic protocols are implicit, defined by convention and described in the documentation. (e.g. a sequence protocol need `__getitem__` and `__len__`, but only `__getitem__` is already sufficient in some context)\n",
    "- static protocol: A static protocol has an explicit definition with `typing.Protocol` to define one or more methods that a class must implement (or inherit) to satisfy a static type checker.\n",
    "\n",
    "Difference:\n",
    "- An object may implement only part of a dynamic protocol and still be useful; but to fulfill a static protocol, the object must provide every method declared in the protocol class, even if your program doesn’t need them all.\n",
    "\n",
    "- Static protocols can be verified by static type checkers, but dynamic protocols can’t.\n"
   ],
   "cell_type": "markdown",
   "metadata": {}
  },
  {
   "source": [
    "## Programming ducks\n",
    "### Python digs Sequences\n",
    "Given the importance of sequence-like data structures, Python manages to make iteration and the in operator work by invoking `__getitem__` when `__iter__` and `__contains__` are unavailable."
   ],
   "cell_type": "markdown",
   "metadata": {}
  },
  {
   "cell_type": "code",
   "execution_count": 1,
   "metadata": {},
   "outputs": [],
   "source": [
    "import collections\n",
    "Card = collections.namedtuple('Card', ['rank', 'suit'])\n",
    "\n",
    "class FrenchDeck:\n",
    "    ranks = [str(n) for n in range(2, 11)] + list(\"JQKA\")\n",
    "    suits = \"spades diamonds clubs hearts\".split()\n",
    "    def __init__(self):\n",
    "        self._cards = [Card(rank, suit) for suit in self.suits for rank in self.ranks]\n",
    "    \n",
    "    def __len__(self):\n",
    "        return len(self._cards)\n",
    "    \n",
    "    def __getitem__(self, position):\n",
    "        return self._cards[position]\n",
    "    \n",
    "deck = FrenchDeck() # `deck` is a sequence-like object"
   ]
  },
  {
   "cell_type": "code",
   "execution_count": 2,
   "metadata": {},
   "outputs": [
    {
     "output_type": "stream",
     "name": "stdout",
     "text": [
      "[3, 7, 1, 5, 2, 0, 6, 8, 4, 9]\n'FrenchDeck' object does not support item assignment\n"
     ]
    }
   ],
   "source": [
    "from random import shuffle\n",
    "l = list(range(10))\n",
    "shuffle(l)\n",
    "print(l)\n",
    "try:\n",
    "    shuffle(deck)\n",
    "except TypeError as e:\n",
    "    print(e) # Need to invoke `__setitem__`, but not available"
   ]
  },
  {
   "source": [
    "### Implementing a Protocol at Runtime\n",
    "What if we can't change the definition of `FrenchDeck` now? We can implement this method at runtime: dynamic protocol is NOT verified by static type checker"
   ],
   "cell_type": "markdown",
   "metadata": {}
  },
  {
   "cell_type": "code",
   "execution_count": 3,
   "metadata": {},
   "outputs": [
    {
     "output_type": "execute_result",
     "data": {
      "text/plain": [
       "[Card(rank='2', suit='clubs'),\n",
       " Card(rank='J', suit='spades'),\n",
       " Card(rank='10', suit='spades'),\n",
       " Card(rank='2', suit='spades'),\n",
       " Card(rank='5', suit='clubs')]"
      ]
     },
     "metadata": {},
     "execution_count": 3
    }
   ],
   "source": [
    "def set_card(deck, position, card):\n",
    "    deck._cards[position] = card\n",
    "\n",
    "FrenchDeck.__setitem__ = set_card\n",
    "shuffle(deck)\n",
    "deck[:5]"
   ]
  },
  {
   "source": [
    "### Defensive programming and 'fail fast'\n",
    "Failing fast means raising runtime errors as soon as possible, for example, rejecting invalid arguments right at the beginning of a function body."
   ],
   "cell_type": "markdown",
   "metadata": {}
  },
  {
   "source": [
    "## Goose typing\n",
    "An abstract class represents an interface.\n",
    "\n",
    "goose typing entails:\n",
    "\n",
    "- Subclassing from ABCs to make it explicit that you are implementing a previously defined interface.\n",
    "\n",
    "- Runtime type checking using ABCs instead of concrete classes as the second argument for isinstance and issubclass.\n",
    "\n",
    "Such as implementing `FrenchDeck2` as a subclass of `MutableSequence`, we have to implement `__delitem__` and `insert`. But we can inherit five concrete methods from `Sequence`: `__contains__`, `__iter__`, `__reversed__`, `index`, `count` and another six methods from `MutableSequence`: `append`, `reverse`, `extend`, `pop`, `remove` and `__iadd__`(`+=`)"
   ],
   "cell_type": "markdown",
   "metadata": {}
  },
  {
   "cell_type": "code",
   "execution_count": 4,
   "metadata": {},
   "outputs": [
    {
     "output_type": "stream",
     "name": "stdout",
     "text": [
      "[Card(rank='4', suit='clubs'), Card(rank='7', suit='clubs'), Card(rank='9', suit='clubs'), Card(rank='8', suit='diamonds'), Card(rank='5', suit='hearts')]\n"
     ]
    }
   ],
   "source": [
    "import collections\n",
    "from random import shuffle\n",
    "\n",
    "Card = collections.namedtuple('Card', ['rank', 'suit'])\n",
    "\n",
    "class FrenchDeck2(collections.abc.MutableSequence):\n",
    "    ranks = [str(n) for n in range(2, 11)] + list('JQKA')\n",
    "    suits = \"spades diamonds clubs hearts\".split()\n",
    "\n",
    "    def __init__(self):\n",
    "        self._cards = [Card(rank, suit) for suit in self.suits for rank in self.ranks]\n",
    "    def __len__(self):\n",
    "        return len(self._cards)\n",
    "    def __getitem__(self, position):\n",
    "        return self._cards[position]\n",
    "    def __setitem__(self, position, value):\n",
    "        self._cards[position] = value\n",
    "    # subclassing MutableSequence forces us to implement `__delitem__`, an abstract method of that ABC.\n",
    "    def __delitem__(self, position): \n",
    "        del self._cards[position]\n",
    "    # subclassing MutableSequence forces us to implement `insert`, an abstract method of that ABC.\n",
    "    def insert(self, position, value):\n",
    "        self._cards.insert(position, value)\n",
    "\n",
    "deck = FrenchDeck2()\n",
    "shuffle(deck)\n",
    "print(deck[:5])"
   ]
  },
  {
   "source": [
    "## ABCs in the Standard Library\n",
    "Most widely used ABCs are defined in `collections.abc`. But if we want to create a brand new ABC, we need to inherit from `abc.ABC` (seperated from package `collections`)\n",
    "![ABCs](./Images/ABCs.png)\n",
    "- `Iterable`, `Container`, `Sized`\n",
    "\n",
    "    Every collection should either inherit from these ABCs or implement compatible protocols. `Iterable` supports iteration with `__iter__`, `Container` supports the `in` operator with `__contains__`, and `Sized` supports `len()` with `__len__`.\n",
    "\n",
    "- `Collection`\n",
    "\n",
    "    This ABC has no methods of its own, but was added in Python 3.6 to make it easier to subclass from `Iterable`, `Container`, and `Sized`.\n",
    "- `Sequence`, `Mapping`, `Set`\n",
    "\n",
    "    These are the main immutable collection types, and each has a mutable subclass.\n",
    "    \n",
    "    ![MutableSequence](./Images/MutableSequence.png)\n",
    "    ![MutableMapping](./Images/MutableMapping.png)\n",
    "    ![MutableSet](./Images/MutableSet.png)\n",
    "- `MappingView`\n",
    "\n",
    "In Python 3, the objects returned from the mapping methods `.items()`, `.keys()`, and `.values()` implement the interfaces defined in `ItemsView`, `KeysView`, and `ValuesView`, respectively. "
   ],
   "cell_type": "markdown",
   "metadata": {}
  },
  {
   "source": [
    "## Defining and Using an ABC\n",
    "Now let’s assume we are building an ad management framework called `ADAM`. One of its requirements is to support user-provided non-repeating random-picking classes. To make it clear to ADAM users what is expected of a “non-repeating random-picking” component, we’ll define an ABC called `Tombola`\n",
    "![Tombola](./Images/Tombola.png)\n",
    "\n",
    "An abstract method can actually have an implementation. Even if it does, subclasses will still be forced to override it, but they will be able to invoke the abstract method with `super()`, adding functionality to it instead of implementing from scratch. "
   ],
   "cell_type": "markdown",
   "metadata": {}
  },
  {
   "cell_type": "code",
   "execution_count": 5,
   "metadata": {},
   "outputs": [],
   "source": [
    "import abc\n",
    "\n",
    "# To define an ABC, subclass `abc.ABC`\n",
    "class Tombola(abc.ABC):\n",
    "    # `abstractmethod` in Python is like pure virtual function in CPP, it's often empty except for a docstring\n",
    "    @abc.abstractmethod\n",
    "    def load(self, iterable):\n",
    "        \"\"\"Add items from an iterable\"\"\"\n",
    "\n",
    "    @abc.abstractmethod\n",
    "    def pick(self):\n",
    "        \"\"\"Remove item at random, returning it. This method should raise `LookupError` when the instance is empty.\"\"\"\n",
    "\n",
    "    def loaded(self):\n",
    "        \"\"\"Return `True` if there's at least 1 item, `False` otherwise.\"\"\"\n",
    "        return bool(self.inspect())\n",
    "    # easy but very expensive, but correct for all subclasses, could be overrided by subclasses\n",
    "    def inspect(self):\n",
    "        \"\"\"Return a sorted tuple with the items currently inside.\"\"\"\n",
    "        items = []\n",
    "        # pop all items into a list `items`\n",
    "        while True:\n",
    "            try:\n",
    "                items.append(self.pick())\n",
    "            except LookupError:\n",
    "                break\n",
    "        # push everything back\n",
    "        self.load(items)\n",
    "        return tuple(items)"
   ]
  },
  {
   "cell_type": "code",
   "execution_count": 6,
   "metadata": {},
   "outputs": [],
   "source": [
    "import random\n",
    "\n",
    "# still use the silly method from Tombola\n",
    "class BingoCage(Tombola):\n",
    "    def __init__(self, items):\n",
    "        self._randomzier = random.SystemRandom()\n",
    "        self._items = []\n",
    "        self.load(items)\n",
    "\n",
    "    def load(self, items):\n",
    "        self._items.extend(items)\n",
    "        self._randomzier.shuffle(self._items)\n",
    "    \n",
    "    def pick(self):\n",
    "        try:\n",
    "            return self._items.pop()\n",
    "        except IndexError:\n",
    "            raise LookupError('pick from empty BingoCage')\n",
    "\n",
    "    def __call__(self):\n",
    "        self.pick()\n",
    "\n",
    "class LottoBlower(Tombola):\n",
    "    def __init__(seld, iterable):\n",
    "        self._balls = list(iterable)\n",
    "    def load(self, iterable):\n",
    "        self._balls.extend(iterable)\n",
    "    def pick(self):\n",
    "        try:\n",
    "            position = random,randrange(len(self._balls))\n",
    "        except ValueError:\n",
    "            raise LookupError('pick from empty LottoBlower')\n",
    "        return self._balls.pop(position)\n",
    "    def loaded(self):\n",
    "        return bool(self._balls)\n",
    "    def inspect(self):\n",
    "        return tuple(self._balls)"
   ]
  },
  {
   "source": [
    "### A virtual subclass of `Tombola`\n",
    "We can register a class as a *virtual subclass* of an ABC, even if it does not inherit from it. When doing so, we promise that the class faithfully implements the interface defined in the ABC—and Python will believe us without checking.\n",
    "\n",
    "This is done by calling a `register` class method on the ABC. The registered class then becomes a virtual subclass of the ABC, and will be recognized as such by `issubclass` and `isinstance`, but it does not inherit any methods or attributes from the ABC.\n",
    "\n",
    "Virtual subclass `TomboList` works as follows:\n",
    "\n",
    "![TomboList](./Images/TomboList.png)"
   ],
   "cell_type": "markdown",
   "metadata": {}
  },
  {
   "cell_type": "code",
   "execution_count": 7,
   "metadata": {},
   "outputs": [
    {
     "output_type": "execute_result",
     "data": {
      "text/plain": [
       "(True, True)"
      ]
     },
     "metadata": {},
     "execution_count": 7
    }
   ],
   "source": [
    "from random import randrange\n",
    "\n",
    "@Tombola.register\n",
    "class TomoboList(list):\n",
    "    # TomoboList inherit `__init__`, '__len__`, `__bool__` und `extend` from list \n",
    "    load = list.extend\n",
    "\n",
    "    # self is itself a list\n",
    "    def pick(self): \n",
    "        if self:\n",
    "            position = randrange(len(self))\n",
    "            return self.pop(position)\n",
    "        else:\n",
    "            raise LookupError('pop from empty TomboList')\n",
    "    def loaded(self):\n",
    "        return bool(self) \n",
    "\n",
    "    def inspect(self):\n",
    "        return tuple(self)\n",
    "# Tombola.register(TomboList) # alternative for decorator\n",
    "\n",
    "# just like `list(range(100))`\n",
    "t = TomoboList(range(100))\n",
    "issubclass(TomoboList, Tombola), isinstance(t, Tombola)"
   ]
  },
  {
   "source": [
    "Inheritance is guided by a special class attribute named `__mro__`(Method Resolution Order). It lists only the “real” superclasses"
   ],
   "cell_type": "markdown",
   "metadata": {}
  },
  {
   "cell_type": "code",
   "execution_count": 8,
   "metadata": {},
   "outputs": [
    {
     "output_type": "execute_result",
     "data": {
      "text/plain": [
       "(__main__.TomoboList, list, object)"
      ]
     },
     "metadata": {},
     "execution_count": 8
    }
   ],
   "source": [
    "TomoboList.__mro__"
   ]
  }
 ]
}