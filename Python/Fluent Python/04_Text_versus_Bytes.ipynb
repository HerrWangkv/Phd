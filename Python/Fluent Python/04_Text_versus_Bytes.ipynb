{
 "metadata": {
  "language_info": {
   "codemirror_mode": {
    "name": "ipython",
    "version": 3
   },
   "file_extension": ".py",
   "mimetype": "text/x-python",
   "name": "python",
   "nbconvert_exporter": "python",
   "pygments_lexer": "ipython3",
   "version": "3.8.5"
  },
  "orig_nbformat": 4,
  "kernelspec": {
   "name": "python3",
   "display_name": "Python 3.8.5 64-bit ('base': conda)"
  },
  "interpreter": {
   "hash": "a833c099db7b05f61158e7bfba6f13b412003cbf9af5e7abee035c4baebbd990"
  }
 },
 "nbformat": 4,
 "nbformat_minor": 2,
 "cells": [
  {
   "source": [
    "## Character issues\n",
    "A string is a sequence of characters. Accordingly, the items you get out of a Python 3 `str` are Unicode characters, just like the items of a `unicode` object in Python 2—and not the raw bytes you get from a Python 2 `str`.\n",
    "\n",
    "The identity of a character—its code point—is a number from 0 to 1,114,111 (base 10), shown in the Unicode standard as 4 to 6 hex digits with a “U+” prefix, from U+0000 to U+10FFFF."
   ],
   "cell_type": "markdown",
   "metadata": {}
  },
  {
   "cell_type": "code",
   "execution_count": 1,
   "metadata": {},
   "outputs": [
    {
     "output_type": "execute_result",
     "data": {
      "text/plain": [
       "1114111"
      ]
     },
     "metadata": {},
     "execution_count": 1
    }
   ],
   "source": [
    "hex = [1,0,15,15,15,15] # U+10FFFF\n",
    "dec = 0\n",
    "for i in hex:\n",
    "    dec = dec * 16 + i\n",
    "dec"
   ]
  }
 ]
}