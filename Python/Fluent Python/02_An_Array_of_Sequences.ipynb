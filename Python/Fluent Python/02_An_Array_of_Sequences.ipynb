{
 "cells": [
  {
   "cell_type": "markdown",
   "metadata": {},
   "source": [
    "## Overview of Built-in Sequeneces\n",
    "- Container sequences (hold references to the objects it contains)\n",
    "\n",
    "    `list`, `tuple` and `collections.deque` can hold items of different types, including nested containers\n",
    "\n",
    "- Flat sequences (stores the value of its contents in its own memory space)\n",
    "\n",
    "    `str`, `bytes`, `bytearray`, `memoryview` and `array.array` hold items of one simple type (only primitive machine values, like bytes, integers and floats)\n",
    "\n",
    "Another way of grouping sequence types:\n",
    "- Mutable sequences\n",
    "\n",
    "    `list`, `bytearray`, `memoryview`, `array.array` and `collections.deque`\n",
    "- Immutable sequences\n",
    "\n",
    "    `tuple`, `str` and `bytes`\n",
    "\n",
    "    Assignment statements are not supported by immutable sequences! But other functions that change the value of mutable sequences may be allowed (e.g. `append` for `list`)"
   ]
  },
  {
   "cell_type": "markdown",
   "metadata": {},
   "source": [
    "## List Comprehensions (listcomps) and Generator Expressions (genexps)\n",
    "### List Comprehensions\n",
    "Listcomps build lists from sequences or any other iterable type by filtering and transforming items."
   ]
  },
  {
   "cell_type": "code",
   "execution_count": 1,
   "metadata": {},
   "outputs": [
    {
     "data": {
      "text/plain": [
       "[24555, 21435, 20889, 20195, 30721]"
      ]
     },
     "execution_count": 1,
     "metadata": {},
     "output_type": "execute_result"
    }
   ],
   "source": [
    "symbols = \"WKW快去写代码\"\n",
    "# `ord` function returns an integer representing the Unicode character.\n",
    "beyond_ascii = [ord(s) for s in symbols if ord(s) > 127]\n",
    "beyond_ascii"
   ]
  },
  {
   "cell_type": "markdown",
   "metadata": {},
   "source": [
    "This same list can also be built by a map/filter composition, but readability suffers\n"
   ]
  },
  {
   "cell_type": "code",
   "execution_count": 2,
   "metadata": {},
   "outputs": [
    {
     "data": {
      "text/plain": [
       "[24555, 21435, 20889, 20195, 30721]"
      ]
     },
     "execution_count": 2,
     "metadata": {},
     "output_type": "execute_result"
    }
   ],
   "source": [
    "beyond_ascii = list(filter(lambda c : c > 127, map(ord, symbols)))\n",
    "beyond_ascii"
   ]
  },
  {
   "cell_type": "markdown",
   "metadata": {},
   "source": [
    "Example: imagine you need to produce a list of T-shirts available in two colors and three sizes"
   ]
  },
  {
   "cell_type": "code",
   "execution_count": 3,
   "metadata": {},
   "outputs": [
    {
     "data": {
      "text/plain": [
       "[('black', 'S'),\n",
       " ('black', 'M'),\n",
       " ('black', 'L'),\n",
       " ('white', 'S'),\n",
       " ('white', 'M'),\n",
       " ('white', 'L')]"
      ]
     },
     "execution_count": 3,
     "metadata": {},
     "output_type": "execute_result"
    }
   ],
   "source": [
    "colors = [\"black\", \"white\"]\n",
    "sizes = [\"S\", \"M\", \"L\"]\n",
    "tshirts = [(color, size) for color in colors for size in sizes]\n",
    "tshirts"
   ]
  },
  {
   "cell_type": "markdown",
   "metadata": {},
   "source": [
    "### Generator Expressions\n",
    "Genexp can be used to initialize tuples, [arrays](#Arrays-(flat,-mutable)) and other types of sequences. It yield items **one by one** instead of building a whole list\n",
    "\n",
    "Genexps use the same syntax as listcomps, but are enclosed in parentheses `()` rather than brackets `[]`"
   ]
  },
  {
   "cell_type": "code",
   "execution_count": 4,
   "metadata": {},
   "outputs": [
    {
     "data": {
      "text/plain": [
       "(24555, 21435, 20889, 20195, 30721)"
      ]
     },
     "execution_count": 4,
     "metadata": {},
     "output_type": "execute_result"
    }
   ],
   "source": [
    "symbols = \"WKW快去写代码\"\n",
    "\n",
    "tuple(ord(s) for s in symbols if ord(s) > 127) # genexp is the only argument here, so no need for more parenthesis"
   ]
  },
  {
   "cell_type": "code",
   "execution_count": 5,
   "metadata": {},
   "outputs": [
    {
     "data": {
      "text/plain": [
       "array('I', [24555, 21435, 20889, 20195, 30721])"
      ]
     },
     "execution_count": 5,
     "metadata": {},
     "output_type": "execute_result"
    }
   ],
   "source": [
    "import array\n",
    "array.array(\"I\", (ord(s) for s in symbols if ord(s) > 127)) # array constructor takes two arguments, parentheses around the genexp are mandatory"
   ]
  },
  {
   "cell_type": "code",
   "execution_count": 6,
   "metadata": {},
   "outputs": [
    {
     "name": "stdout",
     "output_type": "stream",
     "text": [
      "black S\n",
      "black M\n",
      "black L\n",
      "white S\n",
      "white M\n",
      "white L\n"
     ]
    }
   ],
   "source": [
    "colors = [\"black\", \"white\"]\n",
    "sizes = [\"S\", \"M\", \"L\"]\n",
    "\n",
    "# yield items one by one, a list with all 6 T-shirts variations is never produced\n",
    "for tshirt in (f\"{color} {size}\" for color in colors for size in sizes):\n",
    "    print(tshirt)"
   ]
  },
  {
   "cell_type": "markdown",
   "metadata": {},
   "source": [
    "## Tuples are NOT just immutable lists\n",
    "### Tuples as Records (Unpacking)"
   ]
  },
  {
   "cell_type": "code",
   "execution_count": 7,
   "metadata": {},
   "outputs": [
    {
     "name": "stdout",
     "output_type": "stream",
     "text": [
      "33.9425\n",
      "-118.4108056\n"
     ]
    }
   ],
   "source": [
    "# parallel assignment\n",
    "lax_coordinates = (33.9425, -118.4108056)\n",
    "latitude, longtitude = lax_coordinates\n",
    "print(latitude)\n",
    "print(longtitude)"
   ]
  },
  {
   "cell_type": "code",
   "execution_count": 8,
   "metadata": {},
   "outputs": [
    {
     "name": "stdout",
     "output_type": "stream",
     "text": [
      "6\n",
      "5\n"
     ]
    }
   ],
   "source": [
    "# swapping without a temporary variable\n",
    "a, b = 5, 6\n",
    "b, a = a, b\n",
    "print(a)\n",
    "print(b)"
   ]
  },
  {
   "cell_type": "code",
   "execution_count": 9,
   "metadata": {},
   "outputs": [
    {
     "data": {
      "text/plain": [
       "(2, 4)"
      ]
     },
     "execution_count": 9,
     "metadata": {},
     "output_type": "execute_result"
    }
   ],
   "source": [
    "# prefixing an argument with a `*` when calling a function\n",
    "t = (20, 8)\n",
    "\n",
    "# returns a tuple consisting of their quotient and remainder.\n",
    "divmod(*t)"
   ]
  },
  {
   "cell_type": "code",
   "execution_count": 10,
   "metadata": {},
   "outputs": [
    {
     "data": {
      "text/plain": [
       "'02.ipynb'"
      ]
     },
     "execution_count": 10,
     "metadata": {},
     "output_type": "execute_result"
    }
   ],
   "source": [
    "import os\n",
    "\n",
    "# _ can be used as a placeholder for what we don't need\n",
    "_, filename = os.path.split(\"/Desktop/Fluent-Python-2/02.ipynb\")\n",
    "filename"
   ]
  },
  {
   "cell_type": "code",
   "execution_count": 11,
   "metadata": {},
   "outputs": [
    {
     "data": {
      "text/plain": [
       "[1, 2, 3]"
      ]
     },
     "execution_count": 11,
     "metadata": {},
     "output_type": "execute_result"
    }
   ],
   "source": [
    "# Using `*` to grab excess(0~) items, and not necessary at the end\n",
    "a, *rest, b = range(5)\n",
    "rest"
   ]
  },
  {
   "cell_type": "code",
   "execution_count": 12,
   "metadata": {},
   "outputs": [
    {
     "data": {
      "text/plain": [
       "[]"
      ]
     },
     "execution_count": 12,
     "metadata": {},
     "output_type": "execute_result"
    }
   ],
   "source": [
    "a, b, *rest = range(2)\n",
    "rest"
   ]
  },
  {
   "cell_type": "markdown",
   "metadata": {},
   "source": [
    "### Nested Tuple Unpacking"
   ]
  },
  {
   "cell_type": "code",
   "execution_count": 13,
   "metadata": {},
   "outputs": [
    {
     "name": "stdout",
     "output_type": "stream",
     "text": [
      "                |   lat.    |   long.  \n",
      "Mexico City     |   19.4333 |  -99.1333\n",
      "New York-Newark |   40.8086 |  -74.0204\n",
      "Sao Paulo       |  -23.5478 |  -46.6358\n"
     ]
    }
   ],
   "source": [
    "metro_areas = [\n",
    "    ('Tokyo', 'JP', 36.933, (35.689722, 139.691667)),\n",
    "    ('Delhi NCR', 'IN', 21.935, (28.613889, 77.208889)),\n",
    "    ('Mexico City', 'MX', 20.142, (19.433333, -99.133333)),\n",
    "    ('New York-Newark', 'US', 20.104, (40.808611, -74.020386)),\n",
    "    ('Sao Paulo', 'BR', 19.649, (-23.547778, -46.635833)),\n",
    "]\n",
    "\n",
    "# 15 is the width of the first column, `^` means centered\n",
    "print(f'{\"\":15} | {\"lat.\":^9} | {\"long.\":^9}')\n",
    "for name, cc, pop, (latitude, longtitude) in metro_areas:\n",
    "    if longtitude <= 0:\n",
    "        print(f'{name:15} | {latitude:9.4f} | {longtitude:9.4f}')"
   ]
  },
  {
   "cell_type": "markdown",
   "metadata": {},
   "source": [
    "### Tuples as Immutable Lists\n",
    "- Length of a `tuple` will never change\n",
    "- A `tuple` uses less memory than a `list` of the same length\n",
    "- The immutability of a `tuple` only applies to the references contained in it. References in a tuple cannot be deleted or replaced, but if one of those references points to a mutable object, and that object is changed, then the value of the `tuple` **changes**."
   ]
  },
  {
   "cell_type": "code",
   "execution_count": 14,
   "metadata": {},
   "outputs": [
    {
     "data": {
      "text/plain": [
       "(10, 'alpha', [1, 2, 99])"
      ]
     },
     "execution_count": 14,
     "metadata": {},
     "output_type": "execute_result"
    }
   ],
   "source": [
    "a = (10, 'alpha', [1, 2])\n",
    "a[-1].append(99)\n",
    "\n",
    "a"
   ]
  },
  {
   "cell_type": "markdown",
   "metadata": {},
   "source": [
    "How to make sure a `tuple` will stay unchanged?\n",
    "- An object is only hashable if its value cannot ever change. Therefore here is a way:"
   ]
  },
  {
   "cell_type": "code",
   "execution_count": 15,
   "metadata": {},
   "outputs": [
    {
     "name": "stdout",
     "output_type": "stream",
     "text": [
      "False\n",
      "True\n"
     ]
    }
   ],
   "source": [
    "def fixed(obj):\n",
    "    try:\n",
    "        hash(obj)\n",
    "    except TypeError:\n",
    "        return False\n",
    "    return True\n",
    "\n",
    "a = (10, 'alpha', [1, 2])\n",
    "b = (10, 'alpha', (1, 2))\n",
    "print(fixed(a))\n",
    "print(fixed(b))"
   ]
  },
  {
   "cell_type": "markdown",
   "metadata": {},
   "source": [
    "### Tuple VS. List methods\n",
    "`tuple` supports all `list` methods that do not involve adding or removing items, with one exception:tuple lacks the `__reversed__` method, but `reversed(my_tuple)` works without it."
   ]
  },
  {
   "cell_type": "markdown",
   "metadata": {},
   "source": [
    "## Slicing\n",
    "### Slice Objects\n",
    "`s[a:b:c]` specify a stride or step `c`, which can also be negative"
   ]
  },
  {
   "cell_type": "code",
   "execution_count": 16,
   "metadata": {},
   "outputs": [
    {
     "data": {
      "text/plain": [
       "('bye', 'elcycib', 'cce')"
      ]
     },
     "execution_count": 16,
     "metadata": {},
     "output_type": "execute_result"
    }
   ],
   "source": [
    "s = 'bicycle'\n",
    "s[::3], s[::-1], s[2::2]"
   ]
  },
  {
   "cell_type": "markdown",
   "metadata": {},
   "source": [
    "`s[a:b:c]` actually produces a slice object `slice(a, b, c)`. Python intepreter will call `s.__getitem__(slice(a, b, c))`.\n",
    "\n",
    "As a result, we can also name some slices to make them more readable"
   ]
  },
  {
   "cell_type": "code",
   "execution_count": 17,
   "metadata": {},
   "outputs": [
    {
     "name": "stdout",
     "output_type": "stream",
     "text": [
      "    $17.50   Pimoroni PiBrella                 \n",
      "     $4.95   6mm Tactile Switch x20            \n",
      "    $28.00   Panavise Jr. - PV-201             \n",
      "    $34.95   PiTFT Mini Kit 320x240            \n"
     ]
    }
   ],
   "source": [
    "invoice = \"\"\"\n",
    "0.....6.................................40........52...55........\n",
    "1909  Pimoroni PiBrella                     $17.50    3    $52.50\n",
    "1489  6mm Tactile Switch x20                 $4.95    2     $9.90\n",
    "1510  Panavise Jr. - PV-201                 $28.00    1    $28.00\n",
    "1601  PiTFT Mini Kit 320x240                $34.95    1    $34.95\n",
    "\"\"\"\n",
    "SKU = slice(0, 6)\n",
    "DESCRIPTION = slice(6, 40)\n",
    "UNIT_PRICE = slice(40, 52)\n",
    "QUANTITY =  slice(52, 55)\n",
    "ITEM_TOTAL = slice(55, None)\n",
    "\n",
    "line_items = invoice.split(\"\\n\")[2:-1]\n",
    "\n",
    "for item in line_items:\n",
    "    print(item[UNIT_PRICE], item[DESCRIPTION])"
   ]
  },
  {
   "cell_type": "markdown",
   "metadata": {},
   "source": [
    "### Multidimensional Slicing and Ellipsis\n",
    "To evaluate `a[i, j]`, Python calls `a.__getitem__((i, j))`\n",
    "\n",
    "The Ellipsis `...` can be passed as an argument to functions and as part of a slice specification, as in `f(a, ..., z)` or `a[i:...]`\n",
    "\n",
    "Multidimensional Slicing and Ellipsis are mostly used to support user-defined types or extensions such as Numpy, where `x[i,...]` is a shortcut for `x[i,:,:,:]` if `x` is a four-dimensional array"
   ]
  },
  {
   "cell_type": "markdown",
   "metadata": {},
   "source": [
    "### Assigning to Slices\n",
    "Mutable sequences can be modified in place using slice notation on the left-hand of an assignment statement or as the target of a `del` statement"
   ]
  },
  {
   "cell_type": "code",
   "execution_count": 18,
   "metadata": {},
   "outputs": [
    {
     "name": "stdout",
     "output_type": "stream",
     "text": [
      "[0, 1, 20, 5, 6, 7, 8, 9]\n",
      "[0, 1, 7, 8, 9]\n"
     ]
    }
   ],
   "source": [
    "l = list(range(10))\n",
    "# left-hand of an assignment statement, \n",
    "l[2:5] = [20] # brackets are necessary\n",
    "print(l)\n",
    "\n",
    "# target of a `del` statement\n",
    "del l[2:5]\n",
    "print(l)"
   ]
  },
  {
   "cell_type": "markdown",
   "metadata": {},
   "source": [
    "## Using `+` and `*` with Sequences\n",
    "- Usually both operands of `+` must be of the same sequence type.\n",
    "- Both `+` and `*` always create a new object, and never change their operands\n"
   ]
  },
  {
   "cell_type": "code",
   "execution_count": 19,
   "metadata": {},
   "outputs": [
    {
     "data": {
      "text/plain": [
       "'abcdabcdabcdabcdabcd'"
      ]
     },
     "execution_count": 19,
     "metadata": {},
     "output_type": "execute_result"
    }
   ],
   "source": [
    "5 * 'abcd'"
   ]
  },
  {
   "cell_type": "markdown",
   "metadata": {},
   "source": [
    "### Buliding Lists of Lists \n",
    "- `['_'] * 3` is equivalent to `['_' for i in range(3)]`\n",
    "- But `[['_'] * 3] * 3` is not equivalent to `[['_'] * 3 for i in range(3)]`"
   ]
  },
  {
   "cell_type": "code",
   "execution_count": 20,
   "metadata": {},
   "outputs": [
    {
     "name": "stdout",
     "output_type": "stream",
     "text": [
      "[['_', '_', '_'], ['_', '_', '_'], ['_', '_', '_']]\n"
     ]
    },
    {
     "data": {
      "text/plain": [
       "[['_', '_', '_'], ['_', '_', 'X'], ['_', '_', '_']]"
      ]
     },
     "execution_count": 20,
     "metadata": {},
     "output_type": "execute_result"
    }
   ],
   "source": [
    "board = [['_'] * 3 for i in range(3)]\n",
    "print(board)\n",
    "# board[1,2] = 'X' #list indices must be integers or slices, not tuple\n",
    "board[1][2] = 'X'\n",
    "board"
   ]
  },
  {
   "cell_type": "code",
   "execution_count": 21,
   "metadata": {},
   "outputs": [
    {
     "name": "stdout",
     "output_type": "stream",
     "text": [
      "[['_', '_', '_'], ['_', '_', '_'], ['_', '_', '_']]\n"
     ]
    },
    {
     "data": {
      "text/plain": [
       "[['_', '_', 'O'], ['_', '_', 'O'], ['_', '_', 'O']]"
      ]
     },
     "execution_count": 21,
     "metadata": {},
     "output_type": "execute_result"
    }
   ],
   "source": [
    "# A tempting but wrong shortcut\n",
    "weird_board = [['_'] * 3] * 3 # `weird_board` is actually made of three references to the SAME inner list\n",
    "print(weird_board)\n",
    "weird_board[1][2] = 'O' # Also changes other two rows\n",
    "weird_board"
   ]
  },
  {
   "cell_type": "code",
   "execution_count": 22,
   "metadata": {},
   "outputs": [
    {
     "data": {
      "text/plain": [
       "['_', 'O', '_']"
      ]
     },
     "execution_count": 22,
     "metadata": {},
     "output_type": "execute_result"
    }
   ],
   "source": [
    "temp = ['_' for i in range(3)]\n",
    "temp[1] = 'O'\n",
    "temp"
   ]
  },
  {
   "cell_type": "markdown",
   "metadata": {},
   "source": [
    "## Augumented Assignment with Sequences\n",
    "`+=` calls `__iadd__` (in-place addition) if available. If `__iadd__` is not implemented, Python will call `__add__` to calculate the sum, and them bind the sum to the original object. So whether the `id` of object `a` changes, depends on whether we implemented `__iadd__` or not.\n",
    "\n",
    "`*=` calls `__imul__` respectively"
   ]
  },
  {
   "cell_type": "code",
   "execution_count": 23,
   "metadata": {},
   "outputs": [
    {
     "name": "stdout",
     "output_type": "stream",
     "text": [
      "True\n",
      "False\n"
     ]
    }
   ],
   "source": [
    "class A:\n",
    "    def __init__(self, x=[0]):\n",
    "        self.x = x\n",
    "    def __add__(self, y):\n",
    "        return A(self.x + y)\n",
    "    def __iadd__(self, y):\n",
    "        self.x += y\n",
    "        return self\n",
    "\n",
    "class B:\n",
    "    def __init__(self, x=0):\n",
    "        self.x = x\n",
    "    def __add__(self, y):\n",
    "        return A(self.x + y)\n",
    "\n",
    "a = A([5])\n",
    "old_id = id(a)\n",
    "a += [5]\n",
    "new_id = id(a)\n",
    "print(old_id == new_id)\n",
    "\n",
    "b = B([5])\n",
    "old_id = id(b)\n",
    "b += [5]\n",
    "new_id = id(b)\n",
    "print(old_id == new_id)"
   ]
  },
  {
   "cell_type": "markdown",
   "metadata": {},
   "source": [
    "Argumented assignment does not change the `id` of mutable sequence, but changes the `id` of immutable sequence, because it creates a new object"
   ]
  },
  {
   "cell_type": "code",
   "execution_count": 24,
   "metadata": {},
   "outputs": [
    {
     "name": "stdout",
     "output_type": "stream",
     "text": [
      "True\n"
     ]
    }
   ],
   "source": [
    "l = [1, 2, 3]\n",
    "old_id = id(l)\n",
    "l *= 2\n",
    "new_id = id(l)\n",
    "print(old_id == new_id)"
   ]
  },
  {
   "cell_type": "code",
   "execution_count": 25,
   "metadata": {},
   "outputs": [
    {
     "name": "stdout",
     "output_type": "stream",
     "text": [
      "False\n"
     ]
    }
   ],
   "source": [
    "t = (1, 2, 3)\n",
    "old_id = id(t)\n",
    "t *= 2\n",
    "new_id = id(t)\n",
    "print(old_id == new_id)"
   ]
  },
  {
   "cell_type": "markdown",
   "metadata": {},
   "source": [
    "### A `+=` riddle"
   ]
  },
  {
   "cell_type": "code",
   "execution_count": 26,
   "metadata": {},
   "outputs": [
    {
     "name": "stdout",
     "output_type": "stream",
     "text": [
      "(1, 2, [30, 40, 50, 60])\n"
     ]
    }
   ],
   "source": [
    "t = (1, 2, [30, 40])\n",
    "\n",
    "try:\n",
    "    t[2] += [50, 60]\n",
    "except TypeError:   # TypeError because `tuple` object does not support item assignment\n",
    "    print(t)        # Argument assignment succeed"
   ]
  },
  {
   "cell_type": "code",
   "execution_count": 27,
   "metadata": {},
   "outputs": [
    {
     "name": "stdout",
     "output_type": "stream",
     "text": [
      "  1           0 LOAD_NAME                0 (t)\n",
      "              2 LOAD_CONST               0 (2)\n",
      "              4 DUP_TOP_TWO\n",
      "              6 BINARY_SUBSCR\n",
      "              8 LOAD_CONST               1 (50)\n",
      "             10 LOAD_CONST               2 (60)\n",
      "             12 BUILD_LIST               2\n",
      "             14 INPLACE_ADD\n",
      "             16 ROT_THREE\n",
      "             18 STORE_SUBSCR\n",
      "             20 LOAD_CONST               3 (None)\n",
      "             22 RETURN_VALUE\n"
     ]
    }
   ],
   "source": [
    "# Bytecode for the expression `t[2] += [50, 60]`\n",
    "import dis\n",
    "dis.dis('t[2] += [50, 60]')"
   ]
  },
  {
   "cell_type": "markdown",
   "metadata": {},
   "source": [
    "\n",
    "- `BINARY_SUBSCR`: Put the value of `t[2]` on TOS(Top Of Stack)\n",
    "- `INPLACE_ADD`: Perform `TOS += b`. This succeed if `TOS` refers to a mutable object\n",
    "- `STORE_SUBSCR`: Assign `t[2] = TOS`. This fails if `s` is immutable\n",
    "\n",
    "AVOID putting mutable items in tuples!!!"
   ]
  },
  {
   "cell_type": "markdown",
   "metadata": {},
   "source": [
    "## `list.sort` and the `sorted` built-in function\n",
    "- `list.sort` method sorts a list in-place without making a new copy and returns `None` to remind us that it changes the receiver and does not create a new list. **Similar behavior can be seen in other in-place functions** (e.g. `random.shuffle()`)\n",
    "\n",
    "- Built-in function `sorted`creates a new list and returns it.\n",
    "\n",
    "Both 'list.sort` and `sorted` take two optional, keyword-only arguments:\n",
    "- reverse: `False` by default. if `True`, return the items in descending order\n",
    "- key: A one-argument function that will be applied to each item to producing its sorting key (e.g. `len`)"
   ]
  },
  {
   "cell_type": "code",
   "execution_count": 28,
   "metadata": {},
   "outputs": [
    {
     "data": {
      "text/plain": [
       "['grape', 'apple', 'banana', 'raspberry']"
      ]
     },
     "execution_count": 28,
     "metadata": {},
     "output_type": "execute_result"
    }
   ],
   "source": [
    "fruits = ['grape', 'raspberry', 'apple', 'banana']\n",
    "sorted(fruits, key=len)"
   ]
  },
  {
   "cell_type": "code",
   "execution_count": 29,
   "metadata": {},
   "outputs": [
    {
     "name": "stdout",
     "output_type": "stream",
     "text": [
      "None\n",
      "['grape', 'apple', 'banana', 'raspberry']\n"
     ]
    }
   ],
   "source": [
    "print(fruits.sort(key=len))\n",
    "print(fruits)"
   ]
  },
  {
   "cell_type": "markdown",
   "metadata": {},
   "source": [
    "## Managing Ordered Sequences with `bisect`\n",
    "The `bisect` module offers two main functions— `bisect` and `insort`—that use the **binary search** algorithm to quickly find and insert items in any sorted sequence.\n",
    "\n",
    "### Searching with bisect (Not exactly binary search)\n",
    "\n",
    "`bisect(haystack, needle)` does a binary search for `needle` in `haystack`—which must be a sorted sequence—to locate the position where `needle` can be inserted while maintaining `haystack` in ascending order."
   ]
  },
  {
   "cell_type": "code",
   "execution_count": 30,
   "metadata": {},
   "outputs": [
    {
     "data": {
      "text/plain": [
       "['F', 'D', 'D', 'C', 'C', 'B', 'B', 'A', 'A']"
      ]
     },
     "execution_count": 30,
     "metadata": {},
     "output_type": "execute_result"
    }
   ],
   "source": [
    "import bisect\n",
    "\n",
    "# `bisect.bisect` actually finds the index of the smallest element that is bigger than niddle\n",
    "breakpoints = [60, 70, 80, 90]\n",
    "grades = 'FDCBA'\n",
    "def grade(score):\n",
    "    i = bisect.bisect(breakpoints, score)\n",
    "    return grades[i]\n",
    "\n",
    "[grade(score) for score in [55,60,65,70,75,80,85,90,95]]"
   ]
  },
  {
   "cell_type": "code",
   "execution_count": 31,
   "metadata": {},
   "outputs": [
    {
     "data": {
      "text/plain": [
       "['F', 'F', 'D', 'D', 'C', 'C', 'B', 'B', 'A']"
      ]
     },
     "execution_count": 31,
     "metadata": {},
     "output_type": "execute_result"
    }
   ],
   "source": [
    "# `bisect.bisect_left` actually finds the index of the biggest element that is smaller than niddle\n",
    "breakpoints = [60, 70, 80, 90]\n",
    "grades = 'FDCBA'\n",
    "def grade(score):\n",
    "    i = bisect.bisect_left(breakpoints, score)\n",
    "    return grades[i]\n",
    "\n",
    "[grade(score) for score in [55,60,65,70,75,80,85,90,95]]"
   ]
  },
  {
   "cell_type": "markdown",
   "metadata": {},
   "source": [
    "### Inserting with `bisect.insort`\n",
    "`insort` keeps a sorted sequence always sorted. `Actually `insort` use `bisect` to find a proper index."
   ]
  },
  {
   "cell_type": "code",
   "execution_count": 32,
   "metadata": {},
   "outputs": [
    {
     "name": "stdout",
     "output_type": "stream",
     "text": [
      "10 -> [10]\n",
      " 1 -> [1, 10]\n",
      " 0 -> [0, 1, 10]\n",
      "11 -> [0, 1, 10, 11]\n",
      " 4 -> [0, 1, 4, 10, 11]\n",
      " 3 -> [0, 1, 3, 4, 10, 11]\n",
      " 3 -> [0, 1, 3, 3, 4, 10, 11]\n"
     ]
    }
   ],
   "source": [
    "import random\n",
    "SIZE = 7\n",
    "random.seed(42)\n",
    "my_list = []\n",
    "for i in range(SIZE):\n",
    "    new_item = random.randrange(SIZE * 2)\n",
    "    bisect.insort(my_list, new_item)\n",
    "    print(f'{new_item:>2d} -> {my_list}')"
   ]
  },
  {
   "cell_type": "markdown",
   "metadata": {},
   "source": [
    "### When a List is NOT the Answer\n",
    "The `list` type is flexible and easy to use, but depending on specific requirements, there are better options. \n",
    "- An `array` **saves a lot of memory** when you need to store millions of floating-point values. \n",
    "- If you are constantly adding and removing items from opposite ends of a `list`, it’s good to know that a `deque` (double-ended queue) is a more efficient FIFO data structure."
   ]
  },
  {
   "cell_type": "markdown",
   "metadata": {},
   "source": [
    "### Arrays (flat, mutable)\n",
    "When creating an `array`, you provide a [typecode](https://docs.python.org/3/library/array.html#module-array), a letter to determine the underlying C type used to store each item in the array. \n",
    "\n",
    "Methods for **fast** loading and saving: `.fromfile`, `.tofile`"
   ]
  },
  {
   "cell_type": "code",
   "execution_count": 33,
   "metadata": {},
   "outputs": [
    {
     "name": "stdout",
     "output_type": "stream",
     "text": [
      "0.1703067320049848\n"
     ]
    },
    {
     "data": {
      "text/plain": [
       "0.1703067320049848"
      ]
     },
     "execution_count": 33,
     "metadata": {},
     "output_type": "execute_result"
    }
   ],
   "source": [
    "from array import array\n",
    "from random import random\n",
    "\n",
    "floats = array('d', (random() for i in range(10**7)))\n",
    "print(floats[-1])\n",
    "fp = open('floats.bin', 'wb')\n",
    "floats.tofile(fp)\n",
    "fp.close()\n",
    "\n",
    "floats2 = array('d')\n",
    "fp = open('floats.bin', 'rb')\n",
    "floats2.fromfile(fp, 10**7) # second argument means how many we want to read\n",
    "fp.close()\n",
    "\n",
    "floats2[-1]"
   ]
  },
  {
   "cell_type": "markdown",
   "metadata": {},
   "source": [
    "### Memory Views\n",
    "The built-in `memoryview` class is a **shared-memory sequence** type that lets you handle slices of `array`s **without copying bytes**. "
   ]
  },
  {
   "cell_type": "code",
   "execution_count": 34,
   "metadata": {},
   "outputs": [
    {
     "data": {
      "text/plain": [
       "True"
      ]
     },
     "execution_count": 34,
     "metadata": {},
     "output_type": "execute_result"
    }
   ],
   "source": [
    "octets = array('B', range(6)) # 'B' : unsigned char\n",
    "m1 = memoryview(octets)\n",
    "m2 = m1.cast('B', [2, 3])\n",
    "id (octets[4]) == id(m2[1,1])"
   ]
  },
  {
   "cell_type": "code",
   "execution_count": 35,
   "metadata": {},
   "outputs": [
    {
     "data": {
      "text/plain": [
       "[0, 1, 2, 3, 40, 5]"
      ]
     },
     "execution_count": 35,
     "metadata": {},
     "output_type": "execute_result"
    }
   ],
   "source": [
    "m2[1,1] = 40\n",
    "m1.tolist() # `m1` and `m2` share memory"
   ]
  },
  {
   "cell_type": "markdown",
   "metadata": {},
   "source": [
    "`memoryview` may also cause transition between `unsigned` and `signed`"
   ]
  },
  {
   "cell_type": "markdown",
   "metadata": {},
   "source": [
    "### Deques and Other Queues\n",
    "The `.append` and `.pop` methods make a list usable as a stack or a queue. But inserting and removing from the head of a list is costly because the entire list **must be shifted in memory**."
   ]
  },
  {
   "cell_type": "code",
   "execution_count": 36,
   "metadata": {},
   "outputs": [
    {
     "data": {
      "text/plain": [
       "deque([4, 5, 6, 7, 8, 9, 0, 1, 2, 3])"
      ]
     },
     "execution_count": 36,
     "metadata": {},
     "output_type": "execute_result"
    }
   ],
   "source": [
    "from collections import deque\n",
    "\n",
    "dq = deque(range(10), maxlen=10) # The optional `maxlen` argument sets the maximum number of items allowed in this instance of `deque`\n",
    "dq.rotate(-4) # Rotating with n > 0 takes items from the right end and prepends them to the left; when n < 0 items are taken from left and appended to the right.\n",
    "dq"
   ]
  },
  {
   "cell_type": "code",
   "execution_count": 37,
   "metadata": {},
   "outputs": [
    {
     "data": {
      "text/plain": [
       "deque([2, 1, 4, 5, 6, 7, 8, 9, 0, 1])"
      ]
     },
     "execution_count": 37,
     "metadata": {},
     "output_type": "execute_result"
    }
   ],
   "source": [
    "dq.extendleft([1, 2]) # Appending to a deque that is full (len(d) == d.maxlen) discards items from the other end;\n",
    "dq # 2 and 3 are discarded"
   ]
  },
  {
   "cell_type": "code",
   "execution_count": 38,
   "metadata": {},
   "outputs": [
    {
     "data": {
      "text/plain": [
       "deque([5, 6, 7, 8, 9, 0, 1, 3, 4, 5])"
      ]
     },
     "execution_count": 38,
     "metadata": {},
     "output_type": "execute_result"
    }
   ],
   "source": [
    "dq.extend([3, 4, 5])\n",
    "dq # 2, 1 and 4 are discarded"
   ]
  }
 ],
 "metadata": {
  "kernelspec": {
   "display_name": "Python 3.9.5 ('fluent')",
   "language": "python",
   "name": "python3"
  },
  "language_info": {
   "codemirror_mode": {
    "name": "ipython",
    "version": 3
   },
   "file_extension": ".py",
   "mimetype": "text/x-python",
   "name": "python",
   "nbconvert_exporter": "python",
   "pygments_lexer": "ipython3",
   "version": "3.9.5"
  },
  "vscode": {
   "interpreter": {
    "hash": "dd27f8caa2bd078306072d829d9c077933dcd9b310eb848e04c9e2989d032cf5"
   }
  }
 },
 "nbformat": 4,
 "nbformat_minor": 2
}
