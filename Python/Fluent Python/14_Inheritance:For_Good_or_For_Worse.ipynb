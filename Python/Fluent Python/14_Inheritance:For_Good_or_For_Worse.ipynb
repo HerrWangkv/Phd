{
 "metadata": {
  "language_info": {
   "codemirror_mode": {
    "name": "ipython",
    "version": 3
   },
   "file_extension": ".py",
   "mimetype": "text/x-python",
   "name": "python",
   "nbconvert_exporter": "python",
   "pygments_lexer": "ipython3",
   "version": "3.6.13"
  },
  "orig_nbformat": 4,
  "kernelspec": {
   "name": "python3",
   "display_name": "Python 3.6.13 64-bit ('rl': conda)"
  },
  "interpreter": {
   "hash": "05488fbf6fc33f3e5c8e915a2948a13c2897205ee74ab29e243934251ee0787c"
  }
 },
 "nbformat": 4,
 "nbformat_minor": 2,
 "cells": [
  {
   "source": [
    "## Subclassing Built-In Types Is Tricky\n",
    "The code of the built-ins (written in C) does not call special methods overridden by user-defined classes. For example, an overridden `__getitem__()` in a subclass of dict will not be called by e.g. the built-in `get()` method."
   ],
   "cell_type": "markdown",
   "metadata": {}
  },
  {
   "cell_type": "code",
   "execution_count": 6,
   "metadata": {},
   "outputs": [
    {
     "output_type": "execute_result",
     "data": {
      "text/plain": [
       "{'one': 1, 'two': [2, 2], 'three': 3}"
      ]
     },
     "metadata": {},
     "execution_count": 6
    }
   ],
   "source": [
    "class DoppelDict(dict):\n",
    "    def __setitem__(self, key, value):\n",
    "        super().__setitem__(key, [value] * 2)\n",
    "        \n",
    "# invoke `__init__`, ignore user-defined method\n",
    "dd = DoppelDict(one = 1)\n",
    "# invoke `__setitem__`, work as expected\n",
    "dd['two'] = 2\n",
    "# ignore user-defined method\n",
    "dd.update(three=3)\n",
    "\n",
    "dd"
   ]
  },
  {
   "source": [
    "But if you subclass `collections.UserDict` instead of `dict`, these issues will be fixed."
   ],
   "cell_type": "markdown",
   "metadata": {}
  },
  {
   "cell_type": "code",
   "execution_count": 7,
   "metadata": {},
   "outputs": [
    {
     "output_type": "execute_result",
     "data": {
      "text/plain": [
       "{'one': [1, 1], 'two': [2, 2], 'three': [3, 3]}"
      ]
     },
     "metadata": {},
     "execution_count": 7
    }
   ],
   "source": [
    "import collections\n",
    "\n",
    "class DoppelDict2(collections.UserDict):\n",
    "    def __setitem__(self, key, value):\n",
    "        super().__setitem__(key, [value] * 2)\n",
    "\n",
    "dd = DoppelDict2(one = 1)\n",
    "dd['two'] = 2\n",
    "dd.update(three=3)\n",
    "dd"
   ]
  },
  {
   "source": [
    "## Multiple inheritance and Method Resolution Order\n",
    "Diamond Problem: Any language implementing multiple inheritance needs to deal with potential naming conflicts when unrelated ancestor classes implement a method by the same name."
   ],
   "cell_type": "markdown",
   "metadata": {}
  },
  {
   "cell_type": "code",
   "execution_count": 10,
   "metadata": {},
   "outputs": [
    {
     "output_type": "stream",
     "name": "stdout",
     "text": [
      "pong: <__main__.D object at 0x7facd2218310>\nPONG: <__main__.D object at 0x7facd2218310>\n"
     ]
    }
   ],
   "source": [
    "class A:\n",
    "    def ping(self):\n",
    "        print('ping: ', self)\n",
    "class B(A):\n",
    "    def pong(self):\n",
    "        print('pong:', self)\n",
    "class C(A):\n",
    "    def pong(self):\n",
    "        print('PONG:', self)\n",
    "\n",
    "class D(B, C):\n",
    "    def ping(self):\n",
    "        super().ping()\n",
    "        print('post-ping:', self)\n",
    "    def pingpong(self):\n",
    "        self.ping()\n",
    "        super().ping()\n",
    "        self.pong()\n",
    "        super().pong()\n",
    "        C.ping(self)\n",
    "\n",
    "d = D()\n",
    "d.pong()    # `pong` of B version\n",
    "C.pong(d)   # `pong` of C version"
   ]
  },
  {
   "cell_type": "code",
   "execution_count": 3,
   "metadata": {},
   "outputs": [
    {
     "output_type": "execute_result",
     "data": {
      "text/plain": [
       "torch.Tensor"
      ]
     },
     "metadata": {},
     "execution_count": 3
    }
   ],
   "source": [
    "import torch\n",
    "a = torch.scalar_tensor(0)\n",
    "type(torch.stack([a,a,a]))"
   ]
  }
 ]
}