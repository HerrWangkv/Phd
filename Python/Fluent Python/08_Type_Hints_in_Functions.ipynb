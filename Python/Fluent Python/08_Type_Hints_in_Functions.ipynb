{
 "metadata": {
  "language_info": {
   "codemirror_mode": {
    "name": "ipython",
    "version": 3
   },
   "file_extension": ".py",
   "mimetype": "text/x-python",
   "name": "python",
   "nbconvert_exporter": "python",
   "pygments_lexer": "ipython3",
   "version": "3.8.5"
  },
  "orig_nbformat": 4,
  "kernelspec": {
   "name": "python3",
   "display_name": "Python 3.8.5 64-bit ('base': conda)"
  },
  "interpreter": {
   "hash": "a833c099db7b05f61158e7bfba6f13b412003cbf9af5e7abee035c4baebbd990"
  }
 },
 "nbformat": 4,
 "nbformat_minor": 2,
 "cells": [
  {
   "source": [
    "## Gradual Typing\n",
    "A gradual type system\n",
    "- should not emit warnings for code that has no type hints. Instead, if a type cannot be inferred, the type checker assumes the Any type, which is consistent with all other types.\n",
    "- Does not catch type errors at runtime.\n",
    "- Does not enhance performance."
   ],
   "cell_type": "markdown",
   "metadata": {}
  },
  {
   "cell_type": "code",
   "execution_count": 1,
   "metadata": {},
   "outputs": [
    {
     "output_type": "execute_result",
     "data": {
      "text/plain": [
       "'99 birds'"
      ]
     },
     "metadata": {},
     "execution_count": 1
    }
   ],
   "source": [
    "def show_count(count, word):\n",
    "    if count == 0:\n",
    "        return f'no {word}'\n",
    "    elif count == 1:\n",
    "        return f'{count} {word}'\n",
    "    return f'{count} {word}s'\n",
    "\n",
    "show_count(99, 'bird')"
   ]
  }
 ]
}