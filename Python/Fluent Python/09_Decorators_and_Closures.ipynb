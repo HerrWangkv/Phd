{
 "metadata": {
  "language_info": {
   "codemirror_mode": {
    "name": "ipython",
    "version": 3
   },
   "file_extension": ".py",
   "mimetype": "text/x-python",
   "name": "python",
   "nbconvert_exporter": "python",
   "pygments_lexer": "ipython3",
   "version": "3.9.5"
  },
  "orig_nbformat": 4,
  "kernelspec": {
   "name": "python3",
   "display_name": "Python 3.9.5 64-bit ('fluent': conda)"
  },
  "interpreter": {
   "hash": "b49d97cca46654f0638efecf31cc68aac48bbca1dbf9da3c97b7689e9a9e47c8"
  }
 },
 "nbformat": 4,
 "nbformat_minor": 2,
 "cells": [
  {
   "source": [
    "## Decorators 101\n",
    "A decorator is a callable that takes another function as argument (the decorated function).\n",
    "\n",
    "A decorator may perform some processing with the decorated function, and returns it or replaces it with another function or callable object.\n",
    "\n",
    "In other words:\n",
    "```python\n",
    "@decorate\n",
    "def target():\n",
    "    print('abc')\n",
    "```\n",
    " is equivalent to \n",
    " ```python\n",
    " def target():\n",
    "    print('abc')\n",
    "target = decorate(target)\n",
    "```"
   ],
   "cell_type": "markdown",
   "metadata": {}
  },
  {
   "cell_type": "code",
   "execution_count": 1,
   "metadata": {},
   "outputs": [
    {
     "output_type": "stream",
     "name": "stdout",
     "text": [
      "inner\n"
     ]
    }
   ],
   "source": [
    "def deco(func):\n",
    "    def inner():\n",
    "        print('inner')\n",
    "    return inner\n",
    "\n",
    "@deco\n",
    "def target():\n",
    "    print('target')\n",
    "\n",
    "target()"
   ]
  },
  {
   "source": [
    "## When Python Executes Decorators\n",
    "A key feature of decorators is that they run **right after** the decorated function is defined."
   ],
   "cell_type": "markdown",
   "metadata": {}
  },
  {
   "cell_type": "code",
   "execution_count": 2,
   "metadata": {},
   "outputs": [
    {
     "output_type": "stream",
     "name": "stdout",
     "text": [
      "running register(<function f1 at 0x7f2b97fcb1f0>)\nregistry -> [<function f1 at 0x7f2b97fcb1f0>]\nrunning f1\nrunning f2\n"
     ]
    }
   ],
   "source": [
    "registry = []\n",
    "\n",
    "def register(func):\n",
    "    print(f'running register({func})')\n",
    "    registry.append(func)\n",
    "    return func\n",
    "\n",
    "@register\n",
    "def f1():\n",
    "    print('running f1')\n",
    "\n",
    "def f2():\n",
    "    print('running f2')\n",
    "\n",
    "# decorator has been runned before\n",
    "print('registry ->', registry)\n",
    "f1()\n",
    "f2()"
   ]
  },
  {
   "source": [
    "## Variable Scope Rules"
   ],
   "cell_type": "markdown",
   "metadata": {}
  },
  {
   "cell_type": "code",
   "execution_count": 3,
   "metadata": {},
   "outputs": [
    {
     "output_type": "stream",
     "name": "stdout",
     "text": [
      "3\n6\n"
     ]
    }
   ],
   "source": [
    "b = 6 \n",
    "def f1(a):\n",
    "    print(a)\n",
    "    print(b)\n",
    "\n",
    "f1(3)"
   ]
  },
  {
   "source": [
    "but surprisingly"
   ],
   "cell_type": "markdown",
   "metadata": {}
  },
  {
   "cell_type": "code",
   "execution_count": 4,
   "metadata": {},
   "outputs": [
    {
     "output_type": "stream",
     "name": "stdout",
     "text": [
      "3\nlocal variable 'b' referenced before assignment\n"
     ]
    }
   ],
   "source": [
    "b = 6\n",
    "# Python does not require you to declare variables, but assumes that a variable assigned in the body of a function is local.\n",
    "def f2(a):\n",
    "    print(a)\n",
    "    print(b) # Variable `b` is local, because it is assigned a value in the body of the function\n",
    "    b = 9\n",
    "\n",
    "try:    \n",
    "    f2(3)\n",
    "except UnboundLocalError as e:\n",
    "    print(e)"
   ]
  },
  {
   "cell_type": "code",
   "execution_count": 5,
   "metadata": {},
   "outputs": [
    {
     "output_type": "stream",
     "name": "stdout",
     "text": [
      "3\n6\n"
     ]
    },
    {
     "output_type": "execute_result",
     "data": {
      "text/plain": [
       "9"
      ]
     },
     "metadata": {},
     "execution_count": 5
    }
   ],
   "source": [
    "b = 6\n",
    "# Use the global declaration\n",
    "def f3(a):\n",
    "    global b\n",
    "    print(a)\n",
    "    print(b)\n",
    "    b = 9\n",
    "\n",
    "f3(3)\n",
    "b # b is also changed"
   ]
  },
  {
   "source": [
    "## Closures\n",
    "A closure is a function with an extended scope that encompasses nonglobal variables referenced in the body of the function but not defined there."
   ],
   "cell_type": "markdown",
   "metadata": {}
  },
  {
   "cell_type": "code",
   "execution_count": 6,
   "metadata": {},
   "outputs": [
    {
     "output_type": "execute_result",
     "data": {
      "text/plain": [
       "(10.0, 10.5, 11.0)"
      ]
     },
     "metadata": {},
     "execution_count": 6
    }
   ],
   "source": [
    "def make_averager():\n",
    "    # closure\n",
    "    series = []\n",
    "\n",
    "    def averager(new_value):\n",
    "        # Within `averager`, `series` is a free variable, meaning a variable that is not bound in the local scope.\n",
    "        series.append(new_value)\n",
    "        total = sum(series)\n",
    "        return total / len(series)\n",
    "    return averager\n",
    "\n",
    "avg = make_averager()\n",
    "avg(10), avg(11), avg(12)"
   ]
  },
  {
   "cell_type": "code",
   "execution_count": 7,
   "metadata": {},
   "outputs": [
    {
     "output_type": "execute_result",
     "data": {
      "text/plain": [
       "(('new_value', 'total'), ('series',))"
      ]
     },
     "metadata": {},
     "execution_count": 7
    }
   ],
   "source": [
    "avg.__code__.co_varnames, avg.__code__.co_freevars"
   ]
  },
  {
   "source": [
    "-  The value for `series` is kept in the `__closure__` attribute of the returned function `avg` \n",
    "- Each item in `avg.__closure__` corresponds to a name in `avg.__code__.co_freevars`.\n",
    "- These items are cells, and they have an attribute called `cell_contents` where the actual value can be found."
   ],
   "cell_type": "markdown",
   "metadata": {}
  },
  {
   "cell_type": "code",
   "execution_count": 8,
   "metadata": {},
   "outputs": [
    {
     "output_type": "execute_result",
     "data": {
      "text/plain": [
       "[10, 11, 12]"
      ]
     },
     "metadata": {},
     "execution_count": 8
    }
   ],
   "source": [
    "avg.__closure__[0].cell_contents"
   ]
  },
  {
   "source": [
    "## The nonlocal Declaration\n",
    "A better implementation for `avg`"
   ],
   "cell_type": "markdown",
   "metadata": {}
  },
  {
   "cell_type": "code",
   "execution_count": 9,
   "metadata": {},
   "outputs": [
    {
     "output_type": "execute_result",
     "data": {
      "text/plain": [
       "(10.0, 10.5, 11.0)"
      ]
     },
     "metadata": {},
     "execution_count": 9
    }
   ],
   "source": [
    "def make_averager():\n",
    "    # only store the total and the number of items\n",
    "    count = 0\n",
    "    total = 0\n",
    "\n",
    "    def averager(new_value):\n",
    "        nonlocal count, total # just like we need to declare global variations in regular functions\n",
    "        count += 1\n",
    "        total += new_value\n",
    "        return total / count\n",
    "\n",
    "    return averager\n",
    "    \n",
    "avg = make_averager()\n",
    "avg(10), avg(11), avg(12)"
   ]
  },
  {
   "source": [
    "## Implementing a Simple Decorator\n"
   ],
   "cell_type": "markdown",
   "metadata": {}
  },
  {
   "cell_type": "code",
   "execution_count": 10,
   "metadata": {},
   "outputs": [
    {
     "output_type": "stream",
     "name": "stdout",
     "text": [
      "[0.12433838s] snooze(0.123) -> None\n"
     ]
    }
   ],
   "source": [
    "import time\n",
    "\n",
    "def clock(func):\n",
    "    def clocked(*args):\n",
    "        # record start time\n",
    "        t0 = time.perf_counter()\n",
    "        result = func(*args)\n",
    "        elapsed = time.perf_counter() - t0\n",
    "        name = func.__name__\n",
    "        arg_str = ','.join(repr(arg) for arg in args)\n",
    "        print(f'[{elapsed:0.8f}s] {name}({arg_str}) -> {result}')\n",
    "        return result\n",
    "    return clocked\n",
    "\n",
    "@clock\n",
    "def snooze(seconds):\n",
    "    '''sleep function'''\n",
    "    time.sleep(seconds)\n",
    "\n",
    "snooze(0.123)"
   ]
  },
  {
   "source": [
    "But we found that our decorator does not support keyword arguments, and it masks the `__name__` and `__doc__` of the decorated function."
   ],
   "cell_type": "markdown",
   "metadata": {}
  },
  {
   "cell_type": "code",
   "execution_count": 11,
   "metadata": {},
   "outputs": [
    {
     "output_type": "stream",
     "name": "stdout",
     "text": [
      "clocked() got an unexpected keyword argument 'seconds'\n"
     ]
    },
    {
     "output_type": "execute_result",
     "data": {
      "text/plain": [
       "('clocked', None)"
      ]
     },
     "metadata": {},
     "execution_count": 11
    }
   ],
   "source": [
    "try:\n",
    "    snooze(seconds=0.123)\n",
    "except TypeError as e:\n",
    "    print(e)\n",
    "snooze.__name__, snooze.__doc__"
   ]
  },
  {
   "source": [
    "We can use `functools.wraps` decorator to copy the relevant attributes from func to clocked"
   ],
   "cell_type": "markdown",
   "metadata": {}
  },
  {
   "cell_type": "code",
   "execution_count": 12,
   "metadata": {},
   "outputs": [
    {
     "output_type": "stream",
     "name": "stdout",
     "text": [
      "[0.12351428s] snooze(0.123) -> None\n[0.12315554s] snooze(seconds = 0.123) -> None\n"
     ]
    },
    {
     "output_type": "execute_result",
     "data": {
      "text/plain": [
       "('snooze', 'sleep function')"
      ]
     },
     "metadata": {},
     "execution_count": 12
    }
   ],
   "source": [
    "import time\n",
    "import functools\n",
    "\n",
    "def clock(func):\n",
    "    @functools.wraps(func)\n",
    "    def clocked(*args, **kwargs):\n",
    "        # record start time\n",
    "        t0 = time.perf_counter()\n",
    "        result = func(*args, **kwargs)\n",
    "        elapsed = time.perf_counter() - t0\n",
    "        name = func.__name__\n",
    "        arg_lst = []\n",
    "        arg_lst.extend(repr(arg) for arg in args)\n",
    "        arg_lst.extend(f'{k} = {v!r}' for k, v in kwargs.items())\n",
    "        arg_str = '.'.join(arg_lst)\n",
    "        print(f'[{elapsed:0.8f}s] {name}({arg_str}) -> {result}')\n",
    "        return result\n",
    "    return clocked\n",
    "\n",
    "@clock\n",
    "def snooze(seconds):\n",
    "    '''sleep function'''\n",
    "    time.sleep(seconds)\n",
    "\n",
    "snooze(0.123)\n",
    "snooze(seconds=0.123) # keyword version\n",
    "snooze.__name__, snooze.__doc__ "
   ]
  },
  {
   "source": [
    "## Decorators in the standard library\n",
    "Some of the most interesting decorators in the standard library are `cache`, `lru_cache`, and `singledispatch`—all from the functools module. \n",
    "### Memoization with `functools.cache`"
   ],
   "cell_type": "markdown",
   "metadata": {}
  },
  {
   "cell_type": "code",
   "execution_count": 13,
   "metadata": {},
   "outputs": [
    {
     "output_type": "stream",
     "name": "stdout",
     "text": [
      "[0.00000088s] fibonacci(0) -> 0\n[0.00000127s] fibonacci(1) -> 1\n[0.00167361s] fibonacci(2) -> 1\n[0.00000084s] fibonacci(1) -> 1\n[0.00000144s] fibonacci(0) -> 0\n[0.00000138s] fibonacci(1) -> 1\n[0.00046303s] fibonacci(2) -> 1\n[0.00090680s] fibonacci(3) -> 2\n[0.00303409s] fibonacci(4) -> 3\n[0.00000054s] fibonacci(1) -> 1\n[0.00000072s] fibonacci(0) -> 0\n[0.00000095s] fibonacci(1) -> 1\n[0.00034883s] fibonacci(2) -> 1\n[0.00184406s] fibonacci(3) -> 2\n[0.00000070s] fibonacci(0) -> 0\n[0.00000109s] fibonacci(1) -> 1\n[0.00045326s] fibonacci(2) -> 1\n[0.00000071s] fibonacci(1) -> 1\n[0.00000101s] fibonacci(0) -> 0\n[0.00000147s] fibonacci(1) -> 1\n[0.00043502s] fibonacci(2) -> 1\n[0.00086659s] fibonacci(3) -> 2\n[0.00176410s] fibonacci(4) -> 3\n[0.00412015s] fibonacci(5) -> 5\n[0.00757122s] fibonacci(6) -> 8\n"
     ]
    }
   ],
   "source": [
    "@clock\n",
    "def fibonacci(n):\n",
    "    if n < 2:\n",
    "        return n\n",
    "    return fibonacci(n - 2) + fibonacci(n - 1)\n",
    "\n",
    "dummy = fibonacci(6) # The waste is obvious"
   ]
  },
  {
   "cell_type": "code",
   "execution_count": 14,
   "metadata": {},
   "outputs": [
    {
     "output_type": "stream",
     "name": "stdout",
     "text": [
      "[0.00000080s] fibonacci(0) -> 0\n[0.00000139s] fibonacci(1) -> 1\n[0.00087894s] fibonacci(2) -> 1\n[0.00000238s] fibonacci(3) -> 2\n[0.00138011s] fibonacci(4) -> 3\n[0.00000176s] fibonacci(5) -> 5\n[0.00187122s] fibonacci(6) -> 8\n"
     ]
    }
   ],
   "source": [
    "# Avoid wastes\n",
    "import functools\n",
    "\n",
    "@functools.cache # This line works with Python 3.9 or later.\n",
    "@clock\n",
    "def fibonacci(n):\n",
    "    if n < 2:\n",
    "        return n\n",
    "    return fibonacci(n - 2) + fibonacci(n - 1)\n",
    "\n",
    "dummy = fibonacci(6)"
   ]
  },
  {
   "source": [
    "### Using `lru_cache`\n",
    "\n",
    "The `functools.cache` decorator is actually a simple wrapper around the older `functools.lru_cache` function, which is more flexible and compatible with Python 3.8 and earlier versions.\n",
    "\n",
    "The main advantage of `@lru_cache` is that its memory usage is bounded by the `maxsize` parameter, which has a rather conservative default value of 128—which means the cache will hold at most 128 entries at any time, meaning that older entries that have not been read for a while are discarded to make room for new ones. like a queue"
   ],
   "cell_type": "markdown",
   "metadata": {}
  },
  {
   "source": [
    "@lru_cache # only avaliable since python 3.8\n",
    "\n",
    "@lru_cache() # available since Python 3.2"
   ],
   "cell_type": "markdown",
   "metadata": {}
  },
  {
   "source": [
    "## Parametrized Decorator\n"
   ],
   "cell_type": "markdown",
   "metadata": {}
  },
  {
   "cell_type": "code",
   "execution_count": 15,
   "metadata": {},
   "outputs": [
    {
     "output_type": "stream",
     "name": "stdout",
     "text": [
      "[0.12360874s] snooze(seconds=0.123) -> None\n",
      "[0.12312723s] snooze(seconds=0.123) -> None\n",
      "[0.12315331s] snooze(seconds=0.123) -> None\n"
     ]
    }
   ],
   "source": [
    "import time\n",
    "\n",
    "DEFAULT_FMT = '[{elapsed:0.8f}s] {name}({arg_str}) -> {result}'\n",
    "\n",
    "def clock(fmt=DEFAULT_FMT):\n",
    "    def decorate(func):\n",
    "        def clocked(*args, **kwargs):\n",
    "            t0 = time.perf_counter()\n",
    "            _result = func(*args, **kwargs)\n",
    "            elapsed = time.perf_counter() - t0\n",
    "            arg_lst = []\n",
    "            arg_lst.extend(repr(arg) for arg in args)   \n",
    "            arg_lst.extend(f'{k}={v!r}' for k, v in kwargs.items())\n",
    "            arg_str = ','.join(arg_lst)\n",
    "            name = func.__name__\n",
    "            result = repr(_result)\n",
    "            print(fmt.format(**locals()))\n",
    "            return _result\n",
    "        return clocked\n",
    "    return decorate\n",
    "\n",
    "@clock()  \n",
    "def snooze(seconds):\n",
    "    time.sleep(seconds)\n",
    "\n",
    "for i in range(3):\n",
    "    snooze(seconds=.123)"
   ]
  },
  {
   "cell_type": "code",
   "execution_count": 16,
   "metadata": {},
   "outputs": [
    {
     "output_type": "stream",
     "name": "stdout",
     "text": [
      "snooze: 0.12316067799838493s\n",
      "snooze: 0.12315280300390441s\n",
      "snooze: 0.12314689999766415s\n"
     ]
    }
   ],
   "source": [
    "@clock('{name}: {elapsed}s')\n",
    "def snooze(seconds):\n",
    "    time.sleep(seconds)\n",
    "\n",
    "for i in range(3):\n",
    "    snooze(.123)"
   ]
  },
  {
   "source": [
    "### A class-based clock decorator"
   ],
   "cell_type": "markdown",
   "metadata": {}
  },
  {
   "cell_type": "code",
   "execution_count": 17,
   "metadata": {},
   "outputs": [
    {
     "output_type": "stream",
     "name": "stdout",
     "text": [
      "snooze: 0.12316322100377874s\n",
      "snooze: 0.12315250300162006s\n",
      "snooze: 0.1231515089966706s\n"
     ]
    }
   ],
   "source": [
    "import time\n",
    "\n",
    "DEFAULT_FMT = '[{elapsed:0.8f}s] {name}({arg_str}) -> {result}'\n",
    "\n",
    "class clock:\n",
    "    def __init__(self, fmt=DEFAULT_FMT):\n",
    "        self.fmt = fmt\n",
    "    \n",
    "    def __call__(self, func):\n",
    "        def clocked(*args, **kwargs):\n",
    "            t0 = time.perf_counter()\n",
    "            _result = func(*args, **kwargs)\n",
    "            elapsed = time.perf_counter() - t0\n",
    "            arg_lst = []\n",
    "            arg_lst.extend(repr(arg) for arg in args)   \n",
    "            arg_lst.extend(f'{k}={v!r}' for k, v in kwargs.items())\n",
    "            arg_str = ','.join(arg_lst)\n",
    "            name = func.__name__\n",
    "            result = repr(_result)\n",
    "            print(self.fmt.format(**locals()))\n",
    "            return _result\n",
    "        return clocked\n",
    "\n",
    "@clock('{name}: {elapsed}s')\n",
    "def snooze(seconds):\n",
    "    time.sleep(seconds)\n",
    "\n",
    "for i in range(3):\n",
    "    snooze(.123)"
   ]
  }
 ]
}